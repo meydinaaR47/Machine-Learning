{
  "nbformat": 4,
  "nbformat_minor": 0,
  "metadata": {
    "colab": {
      "name": "Prediction_TLKM_LSTM.ipynb",
      "provenance": [],
      "collapsed_sections": []
    },
    "kernelspec": {
      "display_name": "Python 3",
      "name": "python3"
    },
    "language_info": {
      "name": "python"
    }
  },
  "cells": [
    {
      "cell_type": "code",
      "metadata": {
        "id": "Fjd-78dS2G9O"
      },
      "source": [
        "#melakukan import library yang dibutuhkan\n",
        "import math\n",
        "import matplotlib.pyplot as plt\n",
        "import keras\n",
        "import pandas as pd\n",
        "import datetime as dt\n",
        "import numpy as np\n",
        "from keras.models import Sequential\n",
        "from keras.layers import Dense\n",
        "from keras.layers import LSTM\n",
        "from keras.layers import Dropout\n",
        "from keras.layers import *\n",
        "from math import sqrt\n",
        "from sklearn.metrics import r2_score\n",
        "from sklearn.preprocessing import MinMaxScaler\n",
        "from sklearn.metrics import mean_absolute_error\n",
        "\n",
        "#from sklearn.model_selection import train_test_split\n",
        "#from keras.callbacks import EarlyStopping"
      ],
      "execution_count": 34,
      "outputs": []
    },
    {
      "cell_type": "code",
      "metadata": {
        "colab": {
          "base_uri": "https://localhost:8080/"
        },
        "id": "Qikir_h7y4Xn",
        "outputId": "9fceef4f-e4b8-42d4-f580-1dc296db9a1d"
      },
      "source": [
        "from google.colab import drive\n",
        "drive.mount('/content/drive')"
      ],
      "execution_count": 35,
      "outputs": [
        {
          "output_type": "stream",
          "name": "stdout",
          "text": [
            "Drive already mounted at /content/drive; to attempt to forcibly remount, call drive.mount(\"/content/drive\", force_remount=True).\n"
          ]
        }
      ]
    },
    {
      "cell_type": "code",
      "metadata": {
        "id": "pbJl8cVOzO9T",
        "colab": {
          "base_uri": "https://localhost:8080/"
        },
        "outputId": "6919d15f-d85f-414d-8889-c117f6e3e8cb"
      },
      "source": [
        "# menuju ke alamat file\n",
        "%cd /content/drive/MyDrive/"
      ],
      "execution_count": 36,
      "outputs": [
        {
          "output_type": "stream",
          "name": "stdout",
          "text": [
            "/content/drive/MyDrive\n"
          ]
        }
      ]
    },
    {
      "cell_type": "code",
      "metadata": {
        "colab": {
          "base_uri": "https://localhost:8080/",
          "height": 418
        },
        "id": "t-Ty6Qyy2JqI",
        "outputId": "e8c2e449-e90b-4840-a417-1a16c59d8373"
      },
      "source": [
        "# Membaca dataset\n",
        "df = pd.read_csv('TLKM.csv')\n",
        "df"
      ],
      "execution_count": 37,
      "outputs": [
        {
          "output_type": "execute_result",
          "data": {
            "text/html": [
              "<div>\n",
              "<style scoped>\n",
              "    .dataframe tbody tr th:only-of-type {\n",
              "        vertical-align: middle;\n",
              "    }\n",
              "\n",
              "    .dataframe tbody tr th {\n",
              "        vertical-align: top;\n",
              "    }\n",
              "\n",
              "    .dataframe thead th {\n",
              "        text-align: right;\n",
              "    }\n",
              "</style>\n",
              "<table border=\"1\" class=\"dataframe\">\n",
              "  <thead>\n",
              "    <tr style=\"text-align: right;\">\n",
              "      <th></th>\n",
              "      <th>Date</th>\n",
              "      <th>Open</th>\n",
              "      <th>High</th>\n",
              "      <th>Low</th>\n",
              "      <th>Close</th>\n",
              "      <th>Adj Close</th>\n",
              "      <th>Volume</th>\n",
              "    </tr>\n",
              "  </thead>\n",
              "  <tbody>\n",
              "    <tr>\n",
              "      <th>0</th>\n",
              "      <td>2/5/2007</td>\n",
              "      <td>1910</td>\n",
              "      <td>1910</td>\n",
              "      <td>1890</td>\n",
              "      <td>1910</td>\n",
              "      <td>1241.967651</td>\n",
              "      <td>54545000</td>\n",
              "    </tr>\n",
              "    <tr>\n",
              "      <th>1</th>\n",
              "      <td>2/6/2007</td>\n",
              "      <td>1890</td>\n",
              "      <td>1900</td>\n",
              "      <td>1880</td>\n",
              "      <td>1890</td>\n",
              "      <td>1228.962524</td>\n",
              "      <td>39287500</td>\n",
              "    </tr>\n",
              "    <tr>\n",
              "      <th>2</th>\n",
              "      <td>2/7/2007</td>\n",
              "      <td>1870</td>\n",
              "      <td>1890</td>\n",
              "      <td>1860</td>\n",
              "      <td>1870</td>\n",
              "      <td>1215.957397</td>\n",
              "      <td>128965000</td>\n",
              "    </tr>\n",
              "    <tr>\n",
              "      <th>3</th>\n",
              "      <td>2/8/2007</td>\n",
              "      <td>1860</td>\n",
              "      <td>1860</td>\n",
              "      <td>1810</td>\n",
              "      <td>1860</td>\n",
              "      <td>1209.455444</td>\n",
              "      <td>188895000</td>\n",
              "    </tr>\n",
              "    <tr>\n",
              "      <th>4</th>\n",
              "      <td>2/9/2007</td>\n",
              "      <td>1840</td>\n",
              "      <td>1840</td>\n",
              "      <td>1810</td>\n",
              "      <td>1820</td>\n",
              "      <td>1183.445313</td>\n",
              "      <td>133475000</td>\n",
              "    </tr>\n",
              "    <tr>\n",
              "      <th>...</th>\n",
              "      <td>...</td>\n",
              "      <td>...</td>\n",
              "      <td>...</td>\n",
              "      <td>...</td>\n",
              "      <td>...</td>\n",
              "      <td>...</td>\n",
              "      <td>...</td>\n",
              "    </tr>\n",
              "    <tr>\n",
              "      <th>3559</th>\n",
              "      <td>7/5/2021</td>\n",
              "      <td>3070</td>\n",
              "      <td>3090</td>\n",
              "      <td>3010</td>\n",
              "      <td>3040</td>\n",
              "      <td>3040.000000</td>\n",
              "      <td>133815000</td>\n",
              "    </tr>\n",
              "    <tr>\n",
              "      <th>3560</th>\n",
              "      <td>7/6/2021</td>\n",
              "      <td>3050</td>\n",
              "      <td>3070</td>\n",
              "      <td>3000</td>\n",
              "      <td>3010</td>\n",
              "      <td>3010.000000</td>\n",
              "      <td>151573500</td>\n",
              "    </tr>\n",
              "    <tr>\n",
              "      <th>3561</th>\n",
              "      <td>7/7/2021</td>\n",
              "      <td>3030</td>\n",
              "      <td>3070</td>\n",
              "      <td>3010</td>\n",
              "      <td>3030</td>\n",
              "      <td>3030.000000</td>\n",
              "      <td>110215500</td>\n",
              "    </tr>\n",
              "    <tr>\n",
              "      <th>3562</th>\n",
              "      <td>7/8/2021</td>\n",
              "      <td>3060</td>\n",
              "      <td>3060</td>\n",
              "      <td>3000</td>\n",
              "      <td>3010</td>\n",
              "      <td>3010.000000</td>\n",
              "      <td>132576600</td>\n",
              "    </tr>\n",
              "    <tr>\n",
              "      <th>3563</th>\n",
              "      <td>7/9/2021</td>\n",
              "      <td>3040</td>\n",
              "      <td>3170</td>\n",
              "      <td>3030</td>\n",
              "      <td>3160</td>\n",
              "      <td>3160.000000</td>\n",
              "      <td>222916400</td>\n",
              "    </tr>\n",
              "  </tbody>\n",
              "</table>\n",
              "<p>3564 rows × 7 columns</p>\n",
              "</div>"
            ],
            "text/plain": [
              "          Date  Open  High   Low  Close    Adj Close     Volume\n",
              "0     2/5/2007  1910  1910  1890   1910  1241.967651   54545000\n",
              "1     2/6/2007  1890  1900  1880   1890  1228.962524   39287500\n",
              "2     2/7/2007  1870  1890  1860   1870  1215.957397  128965000\n",
              "3     2/8/2007  1860  1860  1810   1860  1209.455444  188895000\n",
              "4     2/9/2007  1840  1840  1810   1820  1183.445313  133475000\n",
              "...        ...   ...   ...   ...    ...          ...        ...\n",
              "3559  7/5/2021  3070  3090  3010   3040  3040.000000  133815000\n",
              "3560  7/6/2021  3050  3070  3000   3010  3010.000000  151573500\n",
              "3561  7/7/2021  3030  3070  3010   3030  3030.000000  110215500\n",
              "3562  7/8/2021  3060  3060  3000   3010  3010.000000  132576600\n",
              "3563  7/9/2021  3040  3170  3030   3160  3160.000000  222916400\n",
              "\n",
              "[3564 rows x 7 columns]"
            ]
          },
          "metadata": {},
          "execution_count": 37
        }
      ]
    },
    {
      "cell_type": "code",
      "metadata": {
        "colab": {
          "base_uri": "https://localhost:8080/"
        },
        "id": "RslTVeqk2s6W",
        "outputId": "d62f479a-4af1-4b55-dbbe-788c1b074f8f"
      },
      "source": [
        "# Memeriksa data bernilai kosong/NaN/Null\n",
        "df.isna().sum()"
      ],
      "execution_count": 38,
      "outputs": [
        {
          "output_type": "execute_result",
          "data": {
            "text/plain": [
              "Date         0\n",
              "Open         0\n",
              "High         0\n",
              "Low          0\n",
              "Close        0\n",
              "Adj Close    0\n",
              "Volume       0\n",
              "dtype: int64"
            ]
          },
          "metadata": {},
          "execution_count": 38
        }
      ]
    },
    {
      "cell_type": "code",
      "metadata": {
        "colab": {
          "base_uri": "https://localhost:8080/",
          "height": 412
        },
        "id": "yJCYy8wl2zFz",
        "outputId": "7d9e3af4-0428-411d-ceba-7d47030eb420"
      },
      "source": [
        "# Visualisasi data harga penutupan\n",
        "plt.figure(figsize=(8,6))\n",
        "plt.title('Riwayat Harga Penutupan Saham TLKM')\n",
        "df['Date'] = pd.to_datetime(df['Date'])\n",
        "plt.plot(df['Date'], df['Close'])\n",
        "\n",
        "plt.xlabel('Date', fontsize=18)\n",
        "plt.ylabel('Harga Penutupan (Rp)', fontsize=18)\n",
        "plt.show()\n"
      ],
      "execution_count": 39,
      "outputs": [
        {
          "output_type": "display_data",
          "data": {
            "image/png": "[encoded data removed]",
            "text/plain": [
              "<Figure size 576x432 with 1 Axes>"
            ]
          },
          "metadata": {
            "needs_background": "light"
          }
        }
      ]
    },
    {
      "cell_type": "code",
      "metadata": {
        "colab": {
          "base_uri": "https://localhost:8080/",
          "height": 418
        },
        "id": "QRWpZZDF6T9h",
        "outputId": "bf15d709-40f7-4b24-c4c4-679e604e9213"
      },
      "source": [
        "data = df.filter(['Close'])\n",
        "data"
      ],
      "execution_count": 40,
      "outputs": [
        {
          "output_type": "execute_result",
          "data": {
            "text/html": [
              "<div>\n",
              "<style scoped>\n",
              "    .dataframe tbody tr th:only-of-type {\n",
              "        vertical-align: middle;\n",
              "    }\n",
              "\n",
              "    .dataframe tbody tr th {\n",
              "        vertical-align: top;\n",
              "    }\n",
              "\n",
              "    .dataframe thead th {\n",
              "        text-align: right;\n",
              "    }\n",
              "</style>\n",
              "<table border=\"1\" class=\"dataframe\">\n",
              "  <thead>\n",
              "    <tr style=\"text-align: right;\">\n",
              "      <th></th>\n",
              "      <th>Close</th>\n",
              "    </tr>\n",
              "  </thead>\n",
              "  <tbody>\n",
              "    <tr>\n",
              "      <th>0</th>\n",
              "      <td>1910</td>\n",
              "    </tr>\n",
              "    <tr>\n",
              "      <th>1</th>\n",
              "      <td>1890</td>\n",
              "    </tr>\n",
              "    <tr>\n",
              "      <th>2</th>\n",
              "      <td>1870</td>\n",
              "    </tr>\n",
              "    <tr>\n",
              "      <th>3</th>\n",
              "      <td>1860</td>\n",
              "    </tr>\n",
              "    <tr>\n",
              "      <th>4</th>\n",
              "      <td>1820</td>\n",
              "    </tr>\n",
              "    <tr>\n",
              "      <th>...</th>\n",
              "      <td>...</td>\n",
              "    </tr>\n",
              "    <tr>\n",
              "      <th>3559</th>\n",
              "      <td>3040</td>\n",
              "    </tr>\n",
              "    <tr>\n",
              "      <th>3560</th>\n",
              "      <td>3010</td>\n",
              "    </tr>\n",
              "    <tr>\n",
              "      <th>3561</th>\n",
              "      <td>3030</td>\n",
              "    </tr>\n",
              "    <tr>\n",
              "      <th>3562</th>\n",
              "      <td>3010</td>\n",
              "    </tr>\n",
              "    <tr>\n",
              "      <th>3563</th>\n",
              "      <td>3160</td>\n",
              "    </tr>\n",
              "  </tbody>\n",
              "</table>\n",
              "<p>3564 rows × 1 columns</p>\n",
              "</div>"
            ],
            "text/plain": [
              "      Close\n",
              "0      1910\n",
              "1      1890\n",
              "2      1870\n",
              "3      1860\n",
              "4      1820\n",
              "...     ...\n",
              "3559   3040\n",
              "3560   3010\n",
              "3561   3030\n",
              "3562   3010\n",
              "3563   3160\n",
              "\n",
              "[3564 rows x 1 columns]"
            ]
          },
          "metadata": {},
          "execution_count": 40
        }
      ]
    },
    {
      "cell_type": "code",
      "metadata": {
        "colab": {
          "base_uri": "https://localhost:8080/"
        },
        "id": "6CF0M_xF9ICy",
        "outputId": "40a728a0-7d28-4564-f612-fdf3213b5072"
      },
      "source": [
        "data_min = min(df['Close'])\n",
        "data_min"
      ],
      "execution_count": 41,
      "outputs": [
        {
          "output_type": "execute_result",
          "data": {
            "text/plain": [
              "1000"
            ]
          },
          "metadata": {},
          "execution_count": 41
        }
      ]
    },
    {
      "cell_type": "code",
      "metadata": {
        "colab": {
          "base_uri": "https://localhost:8080/"
        },
        "id": "35iCwIZqLRKp",
        "outputId": "767fc3d5-5223-49cf-a9d7-9a11be77aa9f"
      },
      "source": [
        "data_max = max(df['Close'])\n",
        "data_max"
      ],
      "execution_count": 42,
      "outputs": [
        {
          "output_type": "execute_result",
          "data": {
            "text/plain": [
              "4800"
            ]
          },
          "metadata": {},
          "execution_count": 42
        }
      ]
    },
    {
      "cell_type": "code",
      "metadata": {
        "colab": {
          "base_uri": "https://localhost:8080/"
        },
        "id": "lMWrfQZdqDEZ",
        "outputId": "3c0076cb-ae04-45ef-9ec3-efdbc6992699"
      },
      "source": [
        "data_len = data.values\n",
        "data_len"
      ],
      "execution_count": 43,
      "outputs": [
        {
          "output_type": "execute_result",
          "data": {
            "text/plain": [
              "array([[1910],\n",
              "       [1890],\n",
              "       [1870],\n",
              "       ...,\n",
              "       [3030],\n",
              "       [3010],\n",
              "       [3160]])"
            ]
          },
          "metadata": {},
          "execution_count": 43
        }
      ]
    },
    {
      "cell_type": "code",
      "metadata": {
        "colab": {
          "base_uri": "https://localhost:8080/"
        },
        "id": "jCvfIA49rT3y",
        "outputId": "de4893c2-e6f2-487b-be2c-cbe5decf4bd1"
      },
      "source": [
        "# Normalisasi data dengan range (0 - 1)\n",
        "sc = MinMaxScaler(feature_range=(0, 1))\n",
        "scaled_data = sc.fit_transform(data_len)\n",
        "scaled_data"
      ],
      "execution_count": 44,
      "outputs": [
        {
          "output_type": "execute_result",
          "data": {
            "text/plain": [
              "array([[0.23947368],\n",
              "       [0.23421053],\n",
              "       [0.22894737],\n",
              "       ...,\n",
              "       [0.53421053],\n",
              "       [0.52894737],\n",
              "       [0.56842105]])"
            ]
          },
          "metadata": {},
          "execution_count": 44
        }
      ]
    },
    {
      "cell_type": "code",
      "metadata": {
        "id": "NduuU7Iu2-P3"
      },
      "source": [
        "# Split dataset\n",
        "training_data = scaled_data[0:int(len(scaled_data) * 0.8)]\n",
        "test_data = scaled_data[int(len(scaled_data) * 0.8):]"
      ],
      "execution_count": 45,
      "outputs": []
    },
    {
      "cell_type": "code",
      "metadata": {
        "colab": {
          "base_uri": "https://localhost:8080/"
        },
        "id": "5lzMSkyS2VBm",
        "outputId": "d62f2ba0-b765-497f-b9c4-76b39d8ba5da"
      },
      "source": [
        "len(training_data)"
      ],
      "execution_count": 46,
      "outputs": [
        {
          "output_type": "execute_result",
          "data": {
            "text/plain": [
              "2851"
            ]
          },
          "metadata": {},
          "execution_count": 46
        }
      ]
    },
    {
      "cell_type": "code",
      "metadata": {
        "colab": {
          "base_uri": "https://localhost:8080/"
        },
        "id": "19L5yly62W2O",
        "outputId": "6f971739-1fac-4e87-859d-c2479b3af060"
      },
      "source": [
        "len(test_data)"
      ],
      "execution_count": 47,
      "outputs": [
        {
          "output_type": "execute_result",
          "data": {
            "text/plain": [
              "713"
            ]
          },
          "metadata": {},
          "execution_count": 47
        }
      ]
    },
    {
      "cell_type": "code",
      "metadata": {
        "colab": {
          "base_uri": "https://localhost:8080/",
          "height": 499
        },
        "id": "f004NBk42e7i",
        "outputId": "1a6768c1-edeb-42ed-c0b0-d08bab1035fe"
      },
      "source": [
        "df_train = data[0:int(len(data)*0.8)]\n",
        "df_test = data[int(len(data)*0.8):]\n",
        "\n",
        "# plot the data\n",
        "# Visualisasi data\n",
        "plt.figure(figsize=(16,8))\n",
        "plt.title('Data Train dan Data Test')\n",
        "plt.ylabel('Close Price', fontsize=18)\n",
        "plt.plot(df_train)\n",
        "plt.plot(df_test)\n",
        "\n",
        "plt.legend(['Data Train', 'Data Test'], loc='lower right')\n",
        "plt.show()"
      ],
      "execution_count": 59,
      "outputs": [
        {
          "output_type": "display_data",
          "data": {
            "image/png": "[encoded data removed]",
            "text/plain": [
              "<Figure size 1152x576 with 1 Axes>"
            ]
          },
          "metadata": {
            "needs_background": "light"
          }
        }
      ]
    },
    {
      "cell_type": "code",
      "metadata": {
        "colab": {
          "base_uri": "https://localhost:8080/"
        },
        "id": "_MOSo53X8uoR",
        "outputId": "7f230780-dc41-48cd-b127-e0e03f3292c8"
      },
      "source": [
        "# membuat struktur data X_train dengan 60 timesteps\n",
        "X_train = []\n",
        "y_train = []\n",
        "for i in range(60, 2850):   \n",
        "    X_train.append(training_data[i-60:i, 0])\n",
        "    y_train.append(training_data[i, 0])  \n",
        "    if i <= 60:\n",
        "      print(X_train)\n",
        "      print(y_train)\n",
        "      print()"
      ],
      "execution_count": 51,
      "outputs": [
        {
          "output_type": "stream",
          "name": "stdout",
          "text": [
            "[array([0.23947368, 0.23421053, 0.22894737, 0.22631579, 0.21578947,\n",
            "       0.21315789, 0.20789474, 0.22368421, 0.23684211, 0.24473684,\n",
            "       0.24473684, 0.24473684, 0.24736842, 0.24210526, 0.22631579,\n",
            "       0.22105263, 0.21578947, 0.20526316, 0.22368421, 0.22894737,\n",
            "       0.21052632, 0.22368421, 0.22368421, 0.22631579, 0.22105263,\n",
            "       0.23157895, 0.23157895, 0.22105263, 0.22894737, 0.22631579,\n",
            "       0.23684211, 0.22631579, 0.23947368, 0.24210526, 0.24736842,\n",
            "       0.25263158, 0.24736842, 0.24473684, 0.25526316, 0.25789474,\n",
            "       0.26315789, 0.27368421, 0.26842105, 0.27368421, 0.27894737,\n",
            "       0.28684211, 0.27631579, 0.28421053, 0.28421053, 0.28684211,\n",
            "       0.27631579, 0.26315789, 0.28421053, 0.29210526, 0.28947368,\n",
            "       0.28947368, 0.30526316, 0.30263158, 0.28947368, 0.28157895])]\n",
            "[0.27631578947368424]\n",
            "\n"
          ]
        }
      ]
    },
    {
      "cell_type": "code",
      "metadata": {
        "id": "mUDIvuzXBnbf"
      },
      "source": [
        "X_train, y_train = np.array(X_train), np.array(y_train)"
      ],
      "execution_count": 52,
      "outputs": []
    },
    {
      "cell_type": "code",
      "metadata": {
        "colab": {
          "base_uri": "https://localhost:8080/"
        },
        "id": "NwAleyuX-oSH",
        "outputId": "1980aea7-46bb-4b3a-fdd7-c2aa49a51b55"
      },
      "source": [
        "X_train = np.reshape(X_train, (X_train.shape[0], X_train.shape[1], 1))\n",
        "X_train.shape"
      ],
      "execution_count": 53,
      "outputs": [
        {
          "output_type": "execute_result",
          "data": {
            "text/plain": [
              "(2790, 60, 1)"
            ]
          },
          "metadata": {},
          "execution_count": 53
        }
      ]
    },
    {
      "cell_type": "code",
      "metadata": {
        "id": "0dC2my7N-s74"
      },
      "source": [
        "from keras import backend as K\n",
        "def r2_keras(y_true, y_pred):\n",
        "    SS_res = K.sum(K.square(y_true - y_pred))                                           \n",
        "    SS_tot = K.sum(K.square(y_true - K.mean(y_true)))\n",
        "    return (1 - SS_res/(SS_tot + K.epsilon()))"
      ],
      "execution_count": 54,
      "outputs": []
    },
    {
      "cell_type": "code",
      "metadata": {
        "id": "9no5nYahBwwH"
      },
      "source": [
        "model = Sequential()\n",
        "\n",
        "#Adding the first LSTM  and some Dropout regularisation\n",
        "model.add(LSTM(units = 50, return_sequences = True, input_shape = (X_train.shape [1], 1)))\n",
        "model.add(Dropout(0.2))\n",
        "\n",
        "# Adding a second LSTM layer and some Dropout regularisation\n",
        "model.add(LSTM(units = 50, return_sequences = True))\n",
        "model.add(Dropout(0.2))\n",
        "\n",
        "# Adding a third LSTM layer and some Dropout regularisation\n",
        "model.add(LSTM(units = 50, return_sequences = True))\n",
        "model.add(Dropout(0.2))\n",
        "\n",
        "# Adding a fourth LSTM layer and some Dropout regularisation\n",
        "model.add(LSTM(units = 50))\n",
        "model.add(Dropout(0.2))\n",
        "\n",
        "# Adding the output layer\n",
        "model.add(Dense(1))\n",
        "\n",
        "#Compiling the LSTM\n",
        "model.compile(optimizer = 'adam', \n",
        "              loss = 'mean_absolute_error', \n",
        "              metrics=[r2_keras])"
      ],
      "execution_count": 55,
      "outputs": []
    },
    {
      "cell_type": "code",
      "metadata": {
        "colab": {
          "base_uri": "https://localhost:8080/"
        },
        "id": "bG5ulPC4EQMk",
        "outputId": "471e5edb-e6e0-4c47-b450-36b0a70dcc62"
      },
      "source": [
        "# Fitting LSTM ke data train\n",
        "model.fit(X_train, y_train, epochs = 100, batch_size = 64)"
      ],
      "execution_count": 56,
      "outputs": [
        {
          "output_type": "stream",
          "name": "stdout",
          "text": [
            "Epoch 1/100\n",
            "44/44 [==============================] - 13s 154ms/step - loss: 0.0933 - r2_keras: 0.6737\n",
            "Epoch 2/100\n",
            "44/44 [==============================] - 7s 152ms/step - loss: 0.0405 - r2_keras: 0.9501\n",
            "Epoch 3/100\n",
            "44/44 [==============================] - 7s 152ms/step - loss: 0.0381 - r2_keras: 0.9556\n",
            "Epoch 4/100\n",
            "44/44 [==============================] - 7s 153ms/step - loss: 0.0377 - r2_keras: 0.9570\n",
            "Epoch 5/100\n",
            "44/44 [==============================] - 7s 155ms/step - loss: 0.0343 - r2_keras: 0.9632\n",
            "Epoch 6/100\n",
            "44/44 [==============================] - 7s 161ms/step - loss: 0.0351 - r2_keras: 0.9628\n",
            "Epoch 7/100\n",
            "44/44 [==============================] - 7s 157ms/step - loss: 0.0333 - r2_keras: 0.9656\n",
            "Epoch 8/100\n",
            "44/44 [==============================] - 7s 157ms/step - loss: 0.0349 - r2_keras: 0.9632\n",
            "Epoch 9/100\n",
            "44/44 [==============================] - 7s 155ms/step - loss: 0.0345 - r2_keras: 0.9638\n",
            "Epoch 10/100\n",
            "44/44 [==============================] - 7s 157ms/step - loss: 0.0337 - r2_keras: 0.9660\n",
            "Epoch 11/100\n",
            "44/44 [==============================] - 7s 154ms/step - loss: 0.0316 - r2_keras: 0.9688\n",
            "Epoch 12/100\n",
            "44/44 [==============================] - 7s 155ms/step - loss: 0.0316 - r2_keras: 0.9687\n",
            "Epoch 13/100\n",
            "44/44 [==============================] - 7s 155ms/step - loss: 0.0297 - r2_keras: 0.9721\n",
            "Epoch 14/100\n",
            "44/44 [==============================] - 7s 153ms/step - loss: 0.0344 - r2_keras: 0.9639\n",
            "Epoch 15/100\n",
            "44/44 [==============================] - 7s 151ms/step - loss: 0.0311 - r2_keras: 0.9697\n",
            "Epoch 16/100\n",
            "44/44 [==============================] - 7s 155ms/step - loss: 0.0296 - r2_keras: 0.9723\n",
            "Epoch 17/100\n",
            "44/44 [==============================] - 7s 152ms/step - loss: 0.0290 - r2_keras: 0.9737\n",
            "Epoch 18/100\n",
            "44/44 [==============================] - 7s 151ms/step - loss: 0.0295 - r2_keras: 0.9720\n",
            "Epoch 19/100\n",
            "44/44 [==============================] - 7s 152ms/step - loss: 0.0280 - r2_keras: 0.9754\n",
            "Epoch 20/100\n",
            "44/44 [==============================] - 7s 152ms/step - loss: 0.0288 - r2_keras: 0.9742\n",
            "Epoch 21/100\n",
            "44/44 [==============================] - 7s 151ms/step - loss: 0.0277 - r2_keras: 0.9749\n",
            "Epoch 22/100\n",
            "44/44 [==============================] - 7s 150ms/step - loss: 0.0277 - r2_keras: 0.9767\n",
            "Epoch 23/100\n",
            "44/44 [==============================] - 7s 151ms/step - loss: 0.0276 - r2_keras: 0.9753\n",
            "Epoch 24/100\n",
            "44/44 [==============================] - 7s 152ms/step - loss: 0.0290 - r2_keras: 0.9746\n",
            "Epoch 25/100\n",
            "44/44 [==============================] - 7s 154ms/step - loss: 0.0279 - r2_keras: 0.9751\n",
            "Epoch 26/100\n",
            "44/44 [==============================] - 7s 153ms/step - loss: 0.0269 - r2_keras: 0.9766\n",
            "Epoch 27/100\n",
            "44/44 [==============================] - 7s 152ms/step - loss: 0.0257 - r2_keras: 0.9794\n",
            "Epoch 28/100\n",
            "44/44 [==============================] - 7s 151ms/step - loss: 0.0259 - r2_keras: 0.9786\n",
            "Epoch 29/100\n",
            "44/44 [==============================] - 7s 152ms/step - loss: 0.0264 - r2_keras: 0.9788\n",
            "Epoch 30/100\n",
            "44/44 [==============================] - 7s 151ms/step - loss: 0.0271 - r2_keras: 0.9768\n",
            "Epoch 31/100\n",
            "44/44 [==============================] - 7s 152ms/step - loss: 0.0257 - r2_keras: 0.9792\n",
            "Epoch 32/100\n",
            "44/44 [==============================] - 7s 153ms/step - loss: 0.0254 - r2_keras: 0.9781\n",
            "Epoch 33/100\n",
            "44/44 [==============================] - 7s 153ms/step - loss: 0.0257 - r2_keras: 0.9785\n",
            "Epoch 34/100\n",
            "44/44 [==============================] - 7s 152ms/step - loss: 0.0248 - r2_keras: 0.9801\n",
            "Epoch 35/100\n",
            "44/44 [==============================] - 7s 152ms/step - loss: 0.0250 - r2_keras: 0.9802\n",
            "Epoch 36/100\n",
            "44/44 [==============================] - 7s 152ms/step - loss: 0.0249 - r2_keras: 0.9804\n",
            "Epoch 37/100\n",
            "44/44 [==============================] - 7s 153ms/step - loss: 0.0249 - r2_keras: 0.9806\n",
            "Epoch 38/100\n",
            "44/44 [==============================] - 7s 154ms/step - loss: 0.0257 - r2_keras: 0.9796\n",
            "Epoch 39/100\n",
            "44/44 [==============================] - 7s 153ms/step - loss: 0.0249 - r2_keras: 0.9807\n",
            "Epoch 40/100\n",
            "44/44 [==============================] - 7s 153ms/step - loss: 0.0246 - r2_keras: 0.9804\n",
            "Epoch 41/100\n",
            "44/44 [==============================] - 7s 152ms/step - loss: 0.0241 - r2_keras: 0.9818\n",
            "Epoch 42/100\n",
            "44/44 [==============================] - 7s 151ms/step - loss: 0.0233 - r2_keras: 0.9825\n",
            "Epoch 43/100\n",
            "44/44 [==============================] - 7s 152ms/step - loss: 0.0242 - r2_keras: 0.9807\n",
            "Epoch 44/100\n",
            "44/44 [==============================] - 7s 153ms/step - loss: 0.0242 - r2_keras: 0.9809\n",
            "Epoch 45/100\n",
            "44/44 [==============================] - 7s 153ms/step - loss: 0.0235 - r2_keras: 0.9823\n",
            "Epoch 46/100\n",
            "44/44 [==============================] - 7s 152ms/step - loss: 0.0237 - r2_keras: 0.9830\n",
            "Epoch 47/100\n",
            "44/44 [==============================] - 7s 150ms/step - loss: 0.0238 - r2_keras: 0.9825\n",
            "Epoch 48/100\n",
            "44/44 [==============================] - 7s 153ms/step - loss: 0.0238 - r2_keras: 0.9824\n",
            "Epoch 49/100\n",
            "44/44 [==============================] - 7s 153ms/step - loss: 0.0235 - r2_keras: 0.9818\n",
            "Epoch 50/100\n",
            "44/44 [==============================] - 7s 154ms/step - loss: 0.0246 - r2_keras: 0.9808\n",
            "Epoch 51/100\n",
            "44/44 [==============================] - 7s 153ms/step - loss: 0.0249 - r2_keras: 0.9792\n",
            "Epoch 52/100\n",
            "44/44 [==============================] - 7s 154ms/step - loss: 0.0230 - r2_keras: 0.9838\n",
            "Epoch 53/100\n",
            "44/44 [==============================] - 7s 154ms/step - loss: 0.0226 - r2_keras: 0.9836\n",
            "Epoch 54/100\n",
            "44/44 [==============================] - 7s 153ms/step - loss: 0.0221 - r2_keras: 0.9842\n",
            "Epoch 55/100\n",
            "44/44 [==============================] - 7s 153ms/step - loss: 0.0227 - r2_keras: 0.9832\n",
            "Epoch 56/100\n",
            "44/44 [==============================] - 7s 153ms/step - loss: 0.0221 - r2_keras: 0.9840\n",
            "Epoch 57/100\n",
            "44/44 [==============================] - 7s 154ms/step - loss: 0.0228 - r2_keras: 0.9836\n",
            "Epoch 58/100\n",
            "44/44 [==============================] - 7s 154ms/step - loss: 0.0229 - r2_keras: 0.9838\n",
            "Epoch 59/100\n",
            "44/44 [==============================] - 7s 153ms/step - loss: 0.0234 - r2_keras: 0.9830\n",
            "Epoch 60/100\n",
            "44/44 [==============================] - 7s 153ms/step - loss: 0.0238 - r2_keras: 0.9818\n",
            "Epoch 61/100\n",
            "44/44 [==============================] - 7s 154ms/step - loss: 0.0222 - r2_keras: 0.9843\n",
            "Epoch 62/100\n",
            "44/44 [==============================] - 7s 155ms/step - loss: 0.0220 - r2_keras: 0.9846\n",
            "Epoch 63/100\n",
            "44/44 [==============================] - 7s 156ms/step - loss: 0.0220 - r2_keras: 0.9842\n",
            "Epoch 64/100\n",
            "44/44 [==============================] - 7s 154ms/step - loss: 0.0222 - r2_keras: 0.9842\n",
            "Epoch 65/100\n",
            "44/44 [==============================] - 7s 155ms/step - loss: 0.0215 - r2_keras: 0.9851\n",
            "Epoch 66/100\n",
            "44/44 [==============================] - 7s 153ms/step - loss: 0.0216 - r2_keras: 0.9849\n",
            "Epoch 67/100\n",
            "44/44 [==============================] - 7s 154ms/step - loss: 0.0213 - r2_keras: 0.9853\n",
            "Epoch 68/100\n",
            "44/44 [==============================] - 7s 155ms/step - loss: 0.0221 - r2_keras: 0.9841\n",
            "Epoch 69/100\n",
            "44/44 [==============================] - 7s 153ms/step - loss: 0.0213 - r2_keras: 0.9858\n",
            "Epoch 70/100\n",
            "44/44 [==============================] - 7s 155ms/step - loss: 0.0213 - r2_keras: 0.9856\n",
            "Epoch 71/100\n",
            "44/44 [==============================] - 7s 156ms/step - loss: 0.0216 - r2_keras: 0.9848\n",
            "Epoch 72/100\n",
            "44/44 [==============================] - 7s 157ms/step - loss: 0.0220 - r2_keras: 0.9846\n",
            "Epoch 73/100\n",
            "44/44 [==============================] - 7s 158ms/step - loss: 0.0233 - r2_keras: 0.9827\n",
            "Epoch 74/100\n",
            "44/44 [==============================] - 7s 155ms/step - loss: 0.0223 - r2_keras: 0.9845\n",
            "Epoch 75/100\n",
            "44/44 [==============================] - 7s 155ms/step - loss: 0.0214 - r2_keras: 0.9853\n",
            "Epoch 76/100\n",
            "44/44 [==============================] - 7s 156ms/step - loss: 0.0214 - r2_keras: 0.9848\n",
            "Epoch 77/100\n",
            "44/44 [==============================] - 7s 157ms/step - loss: 0.0214 - r2_keras: 0.9853\n",
            "Epoch 78/100\n",
            "44/44 [==============================] - 7s 157ms/step - loss: 0.0221 - r2_keras: 0.9845\n",
            "Epoch 79/100\n",
            "44/44 [==============================] - 7s 158ms/step - loss: 0.0213 - r2_keras: 0.9858\n",
            "Epoch 80/100\n",
            "44/44 [==============================] - 7s 157ms/step - loss: 0.0219 - r2_keras: 0.9846\n",
            "Epoch 81/100\n",
            "44/44 [==============================] - 7s 155ms/step - loss: 0.0211 - r2_keras: 0.9859\n",
            "Epoch 82/100\n",
            "44/44 [==============================] - 7s 158ms/step - loss: 0.0205 - r2_keras: 0.9866\n",
            "Epoch 83/100\n",
            "44/44 [==============================] - 7s 157ms/step - loss: 0.0216 - r2_keras: 0.9860\n",
            "Epoch 84/100\n",
            "44/44 [==============================] - 7s 153ms/step - loss: 0.0216 - r2_keras: 0.9854\n",
            "Epoch 85/100\n",
            "44/44 [==============================] - 7s 153ms/step - loss: 0.0212 - r2_keras: 0.9853\n",
            "Epoch 86/100\n",
            "44/44 [==============================] - 7s 154ms/step - loss: 0.0218 - r2_keras: 0.9847\n",
            "Epoch 87/100\n",
            "44/44 [==============================] - 7s 155ms/step - loss: 0.0204 - r2_keras: 0.9866\n",
            "Epoch 88/100\n",
            "44/44 [==============================] - 7s 154ms/step - loss: 0.0202 - r2_keras: 0.9867\n",
            "Epoch 89/100\n",
            "44/44 [==============================] - 7s 153ms/step - loss: 0.0205 - r2_keras: 0.9867\n",
            "Epoch 90/100\n",
            "44/44 [==============================] - 7s 154ms/step - loss: 0.0223 - r2_keras: 0.9844\n",
            "Epoch 91/100\n",
            "44/44 [==============================] - 7s 154ms/step - loss: 0.0210 - r2_keras: 0.9864\n",
            "Epoch 92/100\n",
            "44/44 [==============================] - 7s 156ms/step - loss: 0.0209 - r2_keras: 0.9865\n",
            "Epoch 93/100\n",
            "44/44 [==============================] - 7s 155ms/step - loss: 0.0206 - r2_keras: 0.9863\n",
            "Epoch 94/100\n",
            "44/44 [==============================] - 7s 155ms/step - loss: 0.0202 - r2_keras: 0.9868\n",
            "Epoch 95/100\n",
            "44/44 [==============================] - 7s 155ms/step - loss: 0.0200 - r2_keras: 0.9869\n",
            "Epoch 96/100\n",
            "44/44 [==============================] - 7s 156ms/step - loss: 0.0199 - r2_keras: 0.9875\n",
            "Epoch 97/100\n",
            "44/44 [==============================] - 7s 153ms/step - loss: 0.0202 - r2_keras: 0.9869\n",
            "Epoch 98/100\n",
            "44/44 [==============================] - 7s 153ms/step - loss: 0.0215 - r2_keras: 0.9859\n",
            "Epoch 99/100\n",
            "44/44 [==============================] - 7s 154ms/step - loss: 0.0202 - r2_keras: 0.9868\n",
            "Epoch 100/100\n",
            "44/44 [==============================] - 7s 155ms/step - loss: 0.0199 - r2_keras: 0.9873\n"
          ]
        },
        {
          "output_type": "execute_result",
          "data": {
            "text/plain": [
              "<keras.callbacks.History at 0x7f29de460510>"
            ]
          },
          "metadata": {},
          "execution_count": 56
        }
      ]
    },
    {
      "cell_type": "code",
      "metadata": {
        "colab": {
          "base_uri": "https://localhost:8080/"
        },
        "id": "QQgCFVuuH7Bq",
        "outputId": "c80cdda0-15e5-40c2-db39-0fc50a171851"
      },
      "source": [
        "total_data = pd.concat((df_train, df_test), axis=0)\n",
        "inputs = total_data[len(total_data) - len(df_test) - 60:].values\n",
        "inputs = inputs.reshape(-1,1)\n",
        "inputs = sc.transform(inputs)\n",
        "print(len(inputs))"
      ],
      "execution_count": 60,
      "outputs": [
        {
          "output_type": "stream",
          "name": "stdout",
          "text": [
            "773\n"
          ]
        }
      ]
    },
    {
      "cell_type": "code",
      "metadata": {
        "id": "BDKCEE9lWG84"
      },
      "source": [
        "# membuat struktur data X_test dengan 60 timesteps\n",
        "X_test = []\n",
        "\n",
        "for i in range(60, 773):\n",
        "  X_test.append(inputs[i-60:i, 0])\n",
        "\n",
        "X_test = np.array(X_test)\n",
        "X_test = np.reshape(X_test, (X_test.shape[0], X_test.shape[1], 1))"
      ],
      "execution_count": 68,
      "outputs": []
    },
    {
      "cell_type": "code",
      "metadata": {
        "colab": {
          "base_uri": "https://localhost:8080/"
        },
        "id": "5XMmj3N6Wqny",
        "outputId": "1dd4394d-dd25-4587-8017-d52d5d98fb42"
      },
      "source": [
        "predicted_stock_close_price = model.predict(X_test)\n",
        "predicted_stock_close_price = sc.inverse_transform(\n",
        "    predicted_stock_close_price)\n",
        "print(len(predicted_stock_close_price))"
      ],
      "execution_count": 69,
      "outputs": [
        {
          "output_type": "stream",
          "name": "stdout",
          "text": [
            "713\n"
          ]
        }
      ]
    },
    {
      "cell_type": "code",
      "metadata": {
        "colab": {
          "base_uri": "https://localhost:8080/",
          "height": 418
        },
        "id": "c0VIFdHVW6lo",
        "outputId": "5b1ce212-cbab-490b-9fba-7563e0fef952"
      },
      "source": [
        "prediction = np.array(predicted_stock_close_price)\n",
        "df_hasil = pd.DataFrame()\n",
        "df_hasil['Real Price'] = df_test['Close'].reset_index(drop = True)\n",
        "df_hasil['Prediction'] = prediction\n",
        "df_hasil"
      ],
      "execution_count": 70,
      "outputs": [
        {
          "output_type": "execute_result",
          "data": {
            "text/html": [
              "<div>\n",
              "<style scoped>\n",
              "    .dataframe tbody tr th:only-of-type {\n",
              "        vertical-align: middle;\n",
              "    }\n",
              "\n",
              "    .dataframe tbody tr th {\n",
              "        vertical-align: top;\n",
              "    }\n",
              "\n",
              "    .dataframe thead th {\n",
              "        text-align: right;\n",
              "    }\n",
              "</style>\n",
              "<table border=\"1\" class=\"dataframe\">\n",
              "  <thead>\n",
              "    <tr style=\"text-align: right;\">\n",
              "      <th></th>\n",
              "      <th>Real Price</th>\n",
              "      <th>Prediction</th>\n",
              "    </tr>\n",
              "  </thead>\n",
              "  <tbody>\n",
              "    <tr>\n",
              "      <th>0</th>\n",
              "      <td>3490</td>\n",
              "      <td>3546.897217</td>\n",
              "    </tr>\n",
              "    <tr>\n",
              "      <th>1</th>\n",
              "      <td>3490</td>\n",
              "      <td>3537.741211</td>\n",
              "    </tr>\n",
              "    <tr>\n",
              "      <th>2</th>\n",
              "      <td>3420</td>\n",
              "      <td>3528.095215</td>\n",
              "    </tr>\n",
              "    <tr>\n",
              "      <th>3</th>\n",
              "      <td>3270</td>\n",
              "      <td>3502.534912</td>\n",
              "    </tr>\n",
              "    <tr>\n",
              "      <th>4</th>\n",
              "      <td>3360</td>\n",
              "      <td>3437.234863</td>\n",
              "    </tr>\n",
              "    <tr>\n",
              "      <th>...</th>\n",
              "      <td>...</td>\n",
              "      <td>...</td>\n",
              "    </tr>\n",
              "    <tr>\n",
              "      <th>708</th>\n",
              "      <td>3040</td>\n",
              "      <td>3164.481445</td>\n",
              "    </tr>\n",
              "    <tr>\n",
              "      <th>709</th>\n",
              "      <td>3010</td>\n",
              "      <td>3132.234375</td>\n",
              "    </tr>\n",
              "    <tr>\n",
              "      <th>710</th>\n",
              "      <td>3030</td>\n",
              "      <td>3100.777832</td>\n",
              "    </tr>\n",
              "    <tr>\n",
              "      <th>711</th>\n",
              "      <td>3010</td>\n",
              "      <td>3085.755371</td>\n",
              "    </tr>\n",
              "    <tr>\n",
              "      <th>712</th>\n",
              "      <td>3160</td>\n",
              "      <td>3073.666260</td>\n",
              "    </tr>\n",
              "  </tbody>\n",
              "</table>\n",
              "<p>713 rows × 2 columns</p>\n",
              "</div>"
            ],
            "text/plain": [
              "     Real Price   Prediction\n",
              "0          3490  3546.897217\n",
              "1          3490  3537.741211\n",
              "2          3420  3528.095215\n",
              "3          3270  3502.534912\n",
              "4          3360  3437.234863\n",
              "..          ...          ...\n",
              "708        3040  3164.481445\n",
              "709        3010  3132.234375\n",
              "710        3030  3100.777832\n",
              "711        3010  3085.755371\n",
              "712        3160  3073.666260\n",
              "\n",
              "[713 rows x 2 columns]"
            ]
          },
          "metadata": {},
          "execution_count": 70
        }
      ]
    },
    {
      "cell_type": "code",
      "metadata": {
        "id": "aFB9WOhgJWN8"
      },
      "source": [
        "df_hasil.to_excel(\"datatest_stock(60neuron).xlsx\")"
      ],
      "execution_count": null,
      "outputs": []
    },
    {
      "cell_type": "code",
      "metadata": {
        "colab": {
          "base_uri": "https://localhost:8080/"
        },
        "id": "TyejNdzLH0cQ",
        "outputId": "2cb5fe0b-ea25-43ef-973f-513140a8134e"
      },
      "source": [
        "# Besar nilai kesalahan \n",
        "mape = np.mean(np.abs((df_hasil['Real Price'] - \n",
        "                       df_hasil['Prediction'])/df_hasil['Real Price'])) * 100\n",
        "print('Mean Absolute Percentage Error : ' \"{:.2f}\".format(mape)+'%')"
      ],
      "execution_count": 71,
      "outputs": [
        {
          "output_type": "stream",
          "name": "stdout",
          "text": [
            "Mean Absolute Percentage Error : 1.96%\n"
          ]
        }
      ]
    },
    {
      "cell_type": "code",
      "metadata": {
        "colab": {
          "base_uri": "https://localhost:8080/"
        },
        "id": "DnjNfEz2HyDI",
        "outputId": "062e9ff1-4e3c-4009-9680-c1bbeb6654b7"
      },
      "source": [
        "# Besar nilai akurasi dengan R Squared\n",
        "r2 = r2_score(df_hasil['Real Price'], df_hasil['Prediction'])\n",
        "r2 = r2 * 100\n",
        "print ('Skor Akurasi (R Squared) : ' \"{:.2f}\".format(r2)+' %')"
      ],
      "execution_count": 72,
      "outputs": [
        {
          "output_type": "stream",
          "name": "stdout",
          "text": [
            "Skor Akurasi (R Squared) : 95.99 %\n"
          ]
        }
      ]
    },
    {
      "cell_type": "code",
      "metadata": {
        "colab": {
          "base_uri": "https://localhost:8080/",
          "height": 521
        },
        "id": "ilf1D24w1N8h",
        "outputId": "70e61ef6-5a29-412c-b007-540adafa9ff6"
      },
      "source": [
        "# Visualisasi prediksi\n",
        "plt.figure(figsize=(16,8))\n",
        "plt.title('Harga Saham Aktual VS Prediksi')\n",
        "plt.xlabel('Data Test', fontsize=18)\n",
        "plt.ylabel('Close Price', fontsize=18)\n",
        "\n",
        "plt.plot(df_hasil['Real Price'])\n",
        "plt.plot(df_hasil['Prediction'])\n",
        "plt.legend(['Real Price', 'Prediction'], loc='lower right')\n",
        "plt.show()"
      ],
      "execution_count": 73,
      "outputs": [
        {
          "output_type": "display_data",
          "data": {
            "image/png": "[encoded data removed]",
            "text/plain": [
              "<Figure size 1152x576 with 1 Axes>"
            ]
          },
          "metadata": {
            "needs_background": "light"
          }
        }
      ]
    },
    {
      "cell_type": "code",
      "metadata": {
        "colab": {
          "base_uri": "https://localhost:8080/"
        },
        "id": "oo4mQSo9sCAe",
        "outputId": "9fc0f87c-2982-4ec8-a351-07a0403826a7"
      },
      "source": [
        "# Prediksi 1 hari berikutnya pada 12 Juli 2021\n",
        "real_data = [inputs[len(inputs) + 1 - 60:len(inputs+1), 0]]\n",
        "real_data = np.array(real_data)\n",
        "real_data = np.reshape(real_data, (real_data.shape[0], \n",
        "                                   real_data.shape[1],1))\n",
        "\n",
        "prediction = model.predict(real_data)\n",
        "prediction = sc.inverse_transform(prediction)\n",
        "print(f\"Prediksi harga penutupan saham untuk 12 Juli 2021 : {prediction}\")"
      ],
      "execution_count": 75,
      "outputs": [
        {
          "output_type": "stream",
          "name": "stdout",
          "text": [
            "Prediksi harga penutupan saham untuk 12 Juli 2021 : [[3111.9978]]\n"
          ]
        }
      ]
    },
    {
      "cell_type": "markdown",
      "metadata": {
        "id": "agwNIkfFNx69"
      },
      "source": [
        "**-----END of PROJECT------**"
      ]
    }
  ]
}