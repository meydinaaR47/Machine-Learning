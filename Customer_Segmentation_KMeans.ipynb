{
  "nbformat": 4,
  "nbformat_minor": 0,
  "metadata": {
    "colab": {
      "name": "Project_CustomerSegmentation_KMeans",
      "provenance": [],
      "collapsed_sections": []
    },
    "kernelspec": {
      "name": "python3",
      "display_name": "Python 3"
    },
    "language_info": {
      "name": "python"
    }
  },
  "cells": [
    {
      "cell_type": "code",
      "metadata": {
        "colab": {
          "base_uri": "https://localhost:8080/"
        },
        "id": "KV6ncj8ONIIC",
        "outputId": "46ded10c-412d-4822-c391-0b83d0962885"
      },
      "source": [
        "pip install kmodes"
      ],
      "execution_count": 13,
      "outputs": [
        {
          "output_type": "stream",
          "name": "stdout",
          "text": [
            "Requirement already satisfied: kmodes in /usr/local/lib/python3.7/dist-packages (0.11.1)\n",
            "Requirement already satisfied: numpy>=1.10.4 in /usr/local/lib/python3.7/dist-packages (from kmodes) (1.19.5)\n",
            "Requirement already satisfied: joblib>=0.11 in /usr/local/lib/python3.7/dist-packages (from kmodes) (1.0.1)\n",
            "Requirement already satisfied: scikit-learn>=0.22.0 in /usr/local/lib/python3.7/dist-packages (from kmodes) (0.22.2.post1)\n",
            "Requirement already satisfied: scipy>=0.13.3 in /usr/local/lib/python3.7/dist-packages (from kmodes) (1.4.1)\n"
          ]
        }
      ]
    },
    {
      "cell_type": "code",
      "metadata": {
        "id": "gB2ESDJzy6lq"
      },
      "source": [
        "import pandas as pd  \n",
        "import matplotlib.pyplot as plt  \n",
        "import seaborn as sns  \n",
        "from sklearn.preprocessing import LabelEncoder  \n",
        "  \n",
        "from kmodes.kmodes import KModes  \n",
        "from kmodes.kprototypes import KPrototypes  \n",
        "  \n",
        "import pickle  \n",
        "from pathlib import Path  "
      ],
      "execution_count": 14,
      "outputs": []
    },
    {
      "cell_type": "markdown",
      "metadata": {
        "id": "f1x5kPBjR6E5"
      },
      "source": [
        "### **Membaca Data Pelanggan**\n"
      ]
    },
    {
      "cell_type": "code",
      "metadata": {
        "colab": {
          "base_uri": "https://localhost:8080/"
        },
        "id": "sudxYkZYRzH8",
        "outputId": "5c7fceb1-55e1-413f-efdf-05652fe32272"
      },
      "source": [
        "# import dataset  \n",
        "df = pd.read_csv(\"https://dqlab-dataset.s3-ap-southeast-1.amazonaws.com/customer_segments.txt\", sep=\"\\t\")  \n",
        "  \n",
        "# menampilkan data  \n",
        "print(df.head())\n"
      ],
      "execution_count": 15,
      "outputs": [
        {
          "output_type": "stream",
          "name": "stdout",
          "text": [
            "  Customer_ID       Nama Pelanggan  ... Tipe Residen  NilaiBelanjaSetahun\n",
            "0    CUST-001         Budi Anggara  ...       Sector              9497927\n",
            "1    CUST-002     Shirley Ratuwati  ...      Cluster              2722700\n",
            "2    CUST-003         Agus Cahyono  ...      Cluster              5286429\n",
            "3    CUST-004     Antonius Winarta  ...      Cluster              5204498\n",
            "4    CUST-005  Ibu Sri Wahyuni, IR  ...      Cluster             10615206\n",
            "\n",
            "[5 rows x 7 columns]\n"
          ]
        }
      ]
    },
    {
      "cell_type": "markdown",
      "metadata": {
        "id": "05stREAiUmYg"
      },
      "source": [
        "### **Melihat Informasi dari Data**\n"
      ]
    },
    {
      "cell_type": "code",
      "metadata": {
        "colab": {
          "base_uri": "https://localhost:8080/"
        },
        "id": "aVD1Ods-Rz2h",
        "outputId": "8e078615-84f1-4931-f6b8-7a711bb7f2fb"
      },
      "source": [
        "# Menampilkan informasi data  \n",
        "df.info()"
      ],
      "execution_count": 16,
      "outputs": [
        {
          "output_type": "stream",
          "name": "stdout",
          "text": [
            "<class 'pandas.core.frame.DataFrame'>\n",
            "RangeIndex: 50 entries, 0 to 49\n",
            "Data columns (total 7 columns):\n",
            " #   Column               Non-Null Count  Dtype \n",
            "---  ------               --------------  ----- \n",
            " 0   Customer_ID          50 non-null     object\n",
            " 1   Nama Pelanggan       50 non-null     object\n",
            " 2   Jenis Kelamin        50 non-null     object\n",
            " 3   Umur                 50 non-null     int64 \n",
            " 4   Profesi              50 non-null     object\n",
            " 5   Tipe Residen         50 non-null     object\n",
            " 6   NilaiBelanjaSetahun  50 non-null     int64 \n",
            "dtypes: int64(2), object(5)\n",
            "memory usage: 2.9+ KB\n"
          ]
        }
      ]
    },
    {
      "cell_type": "markdown",
      "metadata": {
        "id": "TACQhqhDEP_n"
      },
      "source": [
        "## **Eksplorasi Data Analisis**"
      ]
    },
    {
      "cell_type": "markdown",
      "metadata": {
        "id": "St8oggmRdS0i"
      },
      "source": [
        "### **Eksplorasi Data Numerik**\n"
      ]
    },
    {
      "cell_type": "code",
      "metadata": {
        "colab": {
          "base_uri": "https://localhost:8080/",
          "height": 1000
        },
        "id": "UCJTL6_SU9lV",
        "outputId": "1d5e6061-28dd-49b0-f33f-78fa52b76953"
      },
      "source": [
        "sns.set(style='white')\n",
        "plt.clf()\n",
        "  \n",
        "# Fungsi untuk membuat plot  \n",
        "def observasi_num(features):\n",
        "    fig, axs = plt.subplots(2, 2, figsize=(10, 9))\n",
        "    for i, kol in enumerate(features):\n",
        "\t    sns.boxplot(df[kol], ax = axs[i][0])\n",
        "\t    sns.distplot(df[kol], ax = axs[i][1])   \n",
        "\t    axs[i][0].set_title('mean = %.2f\\n median = %.2f\\n std = %.2f'%(df[kol].mean(), df[kol].median(), df[kol].std()))\n",
        "    plt.setp(axs)\n",
        "    plt.tight_layout()\n",
        "    plt.show()  \n",
        "  \n",
        "# Memanggil fungsi untuk membuat Plot untuk data numerik  \n",
        "kolom_numerik = ['Umur','NilaiBelanjaSetahun'] \n",
        "observasi_num(kolom_numerik) "
      ],
      "execution_count": 17,
      "outputs": [
        {
          "output_type": "stream",
          "name": "stderr",
          "text": [
            "/usr/local/lib/python3.7/dist-packages/seaborn/_decorators.py:43: FutureWarning: Pass the following variable as a keyword arg: x. From version 0.12, the only valid positional argument will be `data`, and passing other arguments without an explicit keyword will result in an error or misinterpretation.\n",
            "  FutureWarning\n",
            "/usr/local/lib/python3.7/dist-packages/seaborn/distributions.py:2619: FutureWarning: `distplot` is a deprecated function and will be removed in a future version. Please adapt your code to use either `displot` (a figure-level function with similar flexibility) or `histplot` (an axes-level function for histograms).\n",
            "  warnings.warn(msg, FutureWarning)\n",
            "/usr/local/lib/python3.7/dist-packages/seaborn/_decorators.py:43: FutureWarning: Pass the following variable as a keyword arg: x. From version 0.12, the only valid positional argument will be `data`, and passing other arguments without an explicit keyword will result in an error or misinterpretation.\n",
            "  FutureWarning\n",
            "/usr/local/lib/python3.7/dist-packages/seaborn/distributions.py:2619: FutureWarning: `distplot` is a deprecated function and will be removed in a future version. Please adapt your code to use either `displot` (a figure-level function with similar flexibility) or `histplot` (an axes-level function for histograms).\n",
            "  warnings.warn(msg, FutureWarning)\n"
          ]
        },
        {
          "output_type": "stream",
          "name": "stdout",
          "text": [
            "  adjustable: {'box', 'datalim'}\n",
            "  agg_filter: a filter function, which takes a (m, n, 3) float array and a dpi value, and returns a (m, n, 3) array\n",
            "  alpha: float or None\n",
            "  anchor: 2-tuple of floats or {'C', 'SW', 'S', 'SE', ...}\n",
            "  animated: bool\n",
            "  aspect: {'auto', 'equal'} or num\n",
            "  autoscale_on: bool\n",
            "  autoscalex_on: bool\n",
            "  autoscaley_on: bool\n",
            "  axes_locator: Callable[[Axes, Renderer], Bbox]\n",
            "  axisbelow: bool or 'line'\n",
            "  clip_box: `.Bbox`\n",
            "  clip_on: bool\n",
            "  clip_path: Patch or (Path, Transform) or None\n",
            "  contains: callable\n",
            "  facecolor: color\n",
            "  fc: color\n",
            "  figure: `.Figure`\n",
            "  frame_on: bool\n",
            "  gid: str\n",
            "  in_layout: bool\n",
            "  label: object\n",
            "  navigate: bool\n",
            "  navigate_mode: unknown\n",
            "  path_effects: `.AbstractPathEffect`\n",
            "  picker: None or bool or float or callable\n",
            "  position: [left, bottom, width, height] or `~matplotlib.transforms.Bbox`\n",
            "  prop_cycle: unknown\n",
            "  rasterization_zorder: float or None\n",
            "  rasterized: bool or None\n",
            "  sketch_params: (scale: float, length: float, randomness: float)\n",
            "  snap: bool or None\n",
            "  subplotspec: unknown\n",
            "  title: str\n",
            "  transform: `.Transform`\n",
            "  url: str\n",
            "  visible: bool\n",
            "  xbound: unknown\n",
            "  xlabel: str\n",
            "  xlim: (bottom: float, top: float)\n",
            "  xmargin: float greater than -0.5\n",
            "  xscale: {\"linear\", \"log\", \"symlog\", \"logit\", ...}\n",
            "  xticklabels: List[str]\n",
            "  xticks: unknown\n",
            "  ybound: unknown\n",
            "  ylabel: str\n",
            "  ylim: (bottom: float, top: float)\n",
            "  ymargin: float greater than -0.5\n",
            "  yscale: {\"linear\", \"log\", \"symlog\", \"logit\", ...}\n",
            "  yticklabels: List[str]\n",
            "  yticks: unknown\n",
            "  zorder: float\n"
          ]
        },
        {
          "output_type": "display_data",
          "data": {
            "text/plain": [
              "<Figure size 432x288 with 0 Axes>"
            ]
          },
          "metadata": {}
        },
        {
          "output_type": "display_data",
          "data": {
            "image/png": "[encoded data removed]",
            "text/plain": [
              "<Figure size 720x648 with 4 Axes>"
            ]
          },
          "metadata": {}
        }
      ]
    },
    {
      "cell_type": "markdown",
      "metadata": {
        "id": "HzPB8kA0vNfu"
      },
      "source": [
        "### **Eksplorasi Data Kategorikal**\n"
      ]
    },
    {
      "cell_type": "code",
      "metadata": {
        "id": "vUqKkYo3gRey",
        "colab": {
          "base_uri": "https://localhost:8080/",
          "height": 1000
        },
        "outputId": "a717721f-a646-4adf-a4e2-25afcd93fa86"
      },
      "source": [
        "sns.set(style='white')\n",
        "\n",
        "plt.clf()\n",
        "  \n",
        "# Menyiapkan kolom kategorikal  \n",
        "kolom_kategorikal = ['Jenis Kelamin','Profesi','Tipe Residen']  \n",
        "\n",
        "# Membuat canvas\n",
        "fig, axs = plt.subplots(3,1,figsize=(7,10)) \n",
        "\n",
        "# Membuat plot untuk setiap kolom kategorikal  \n",
        "for i, kol in enumerate(kolom_kategorikal):  \n",
        "    # Membuat Plot\n",
        "    sns.countplot(df[kol], order = df[kol].value_counts().index, ax = axs[i])  \n",
        "    axs[i].set_title('\\n Count Plot %s\\n'%(kol), fontsize=15)  \n",
        "      \n",
        "    # Memberikan anotasi  \n",
        "    for p in axs[i].patches:  \n",
        "        axs[i].annotate(format(p.get_height(), '.0f'),  \n",
        "                        (p.get_x() + p.get_width() / 2., p.get_height()),  \n",
        "                        ha = 'center',  \n",
        "                        va = 'center',  \n",
        "                        xytext = (0, 10),  \n",
        "                        textcoords = 'offset points') \n",
        "          \n",
        "    # Setting Plot  \n",
        "    sns.despine(right=True,top = True, left = True)  \n",
        "    axs[i].axes.yaxis.set_visible(False) \n",
        "    plt.setp(axs[i])\n",
        "    plt.tight_layout()\n",
        "\n",
        "# Tampilkan plot\n",
        "plt.show()"
      ],
      "execution_count": 18,
      "outputs": [
        {
          "output_type": "stream",
          "name": "stderr",
          "text": [
            "/usr/local/lib/python3.7/dist-packages/seaborn/_decorators.py:43: FutureWarning: Pass the following variable as a keyword arg: x. From version 0.12, the only valid positional argument will be `data`, and passing other arguments without an explicit keyword will result in an error or misinterpretation.\n",
            "  FutureWarning\n"
          ]
        },
        {
          "output_type": "stream",
          "name": "stdout",
          "text": [
            "  adjustable: {'box', 'datalim'}\n",
            "  agg_filter: a filter function, which takes a (m, n, 3) float array and a dpi value, and returns a (m, n, 3) array\n",
            "  alpha: float or None\n",
            "  anchor: 2-tuple of floats or {'C', 'SW', 'S', 'SE', ...}\n",
            "  animated: bool\n",
            "  aspect: {'auto', 'equal'} or num\n",
            "  autoscale_on: bool\n",
            "  autoscalex_on: bool\n",
            "  autoscaley_on: bool\n",
            "  axes_locator: Callable[[Axes, Renderer], Bbox]\n",
            "  axisbelow: bool or 'line'\n",
            "  clip_box: `.Bbox`\n",
            "  clip_on: bool\n",
            "  clip_path: Patch or (Path, Transform) or None\n",
            "  contains: callable\n",
            "  facecolor: color\n",
            "  fc: color\n",
            "  figure: `.Figure`\n",
            "  frame_on: bool\n",
            "  gid: str\n",
            "  in_layout: bool\n",
            "  label: object\n",
            "  navigate: bool\n",
            "  navigate_mode: unknown\n",
            "  path_effects: `.AbstractPathEffect`\n",
            "  picker: None or bool or float or callable\n",
            "  position: [left, bottom, width, height] or `~matplotlib.transforms.Bbox`\n",
            "  prop_cycle: unknown\n",
            "  rasterization_zorder: float or None\n",
            "  rasterized: bool or None\n",
            "  sketch_params: (scale: float, length: float, randomness: float)\n",
            "  snap: bool or None\n",
            "  subplotspec: unknown\n",
            "  title: str\n",
            "  transform: `.Transform`\n",
            "  url: str\n",
            "  visible: bool\n",
            "  xbound: unknown\n",
            "  xlabel: str\n",
            "  xlim: (bottom: float, top: float)\n",
            "  xmargin: float greater than -0.5\n",
            "  xscale: {\"linear\", \"log\", \"symlog\", \"logit\", ...}\n",
            "  xticklabels: List[str]\n",
            "  xticks: unknown\n",
            "  ybound: unknown\n",
            "  ylabel: str\n",
            "  ylim: (bottom: float, top: float)\n",
            "  ymargin: float greater than -0.5\n",
            "  yscale: {\"linear\", \"log\", \"symlog\", \"logit\", ...}\n",
            "  yticklabels: List[str]\n",
            "  yticks: unknown\n",
            "  zorder: float\n"
          ]
        },
        {
          "output_type": "stream",
          "name": "stderr",
          "text": [
            "/usr/local/lib/python3.7/dist-packages/seaborn/_decorators.py:43: FutureWarning: Pass the following variable as a keyword arg: x. From version 0.12, the only valid positional argument will be `data`, and passing other arguments without an explicit keyword will result in an error or misinterpretation.\n",
            "  FutureWarning\n",
            "/usr/local/lib/python3.7/dist-packages/seaborn/_decorators.py:43: FutureWarning: Pass the following variable as a keyword arg: x. From version 0.12, the only valid positional argument will be `data`, and passing other arguments without an explicit keyword will result in an error or misinterpretation.\n",
            "  FutureWarning\n"
          ]
        },
        {
          "output_type": "stream",
          "name": "stdout",
          "text": [
            "  adjustable: {'box', 'datalim'}\n",
            "  agg_filter: a filter function, which takes a (m, n, 3) float array and a dpi value, and returns a (m, n, 3) array\n",
            "  alpha: float or None\n",
            "  anchor: 2-tuple of floats or {'C', 'SW', 'S', 'SE', ...}\n",
            "  animated: bool\n",
            "  aspect: {'auto', 'equal'} or num\n",
            "  autoscale_on: bool\n",
            "  autoscalex_on: bool\n",
            "  autoscaley_on: bool\n",
            "  axes_locator: Callable[[Axes, Renderer], Bbox]\n",
            "  axisbelow: bool or 'line'\n",
            "  clip_box: `.Bbox`\n",
            "  clip_on: bool\n",
            "  clip_path: Patch or (Path, Transform) or None\n",
            "  contains: callable\n",
            "  facecolor: color\n",
            "  fc: color\n",
            "  figure: `.Figure`\n",
            "  frame_on: bool\n",
            "  gid: str\n",
            "  in_layout: bool\n",
            "  label: object\n",
            "  navigate: bool\n",
            "  navigate_mode: unknown\n",
            "  path_effects: `.AbstractPathEffect`\n",
            "  picker: None or bool or float or callable\n",
            "  position: [left, bottom, width, height] or `~matplotlib.transforms.Bbox`\n",
            "  prop_cycle: unknown\n",
            "  rasterization_zorder: float or None\n",
            "  rasterized: bool or None\n",
            "  sketch_params: (scale: float, length: float, randomness: float)\n",
            "  snap: bool or None\n",
            "  subplotspec: unknown\n",
            "  title: str\n",
            "  transform: `.Transform`\n",
            "  url: str\n",
            "  visible: bool\n",
            "  xbound: unknown\n",
            "  xlabel: str\n",
            "  xlim: (bottom: float, top: float)\n",
            "  xmargin: float greater than -0.5\n",
            "  xscale: {\"linear\", \"log\", \"symlog\", \"logit\", ...}\n",
            "  xticklabels: List[str]\n",
            "  xticks: unknown\n",
            "  ybound: unknown\n",
            "  ylabel: str\n",
            "  ylim: (bottom: float, top: float)\n",
            "  ymargin: float greater than -0.5\n",
            "  yscale: {\"linear\", \"log\", \"symlog\", \"logit\", ...}\n",
            "  yticklabels: List[str]\n",
            "  yticks: unknown\n",
            "  zorder: float\n",
            "  adjustable: {'box', 'datalim'}\n",
            "  agg_filter: a filter function, which takes a (m, n, 3) float array and a dpi value, and returns a (m, n, 3) array\n",
            "  alpha: float or None\n",
            "  anchor: 2-tuple of floats or {'C', 'SW', 'S', 'SE', ...}\n",
            "  animated: bool\n",
            "  aspect: {'auto', 'equal'} or num\n",
            "  autoscale_on: bool\n",
            "  autoscalex_on: bool\n",
            "  autoscaley_on: bool\n",
            "  axes_locator: Callable[[Axes, Renderer], Bbox]\n",
            "  axisbelow: bool or 'line'\n",
            "  clip_box: `.Bbox`\n",
            "  clip_on: bool\n",
            "  clip_path: Patch or (Path, Transform) or None\n",
            "  contains: callable\n",
            "  facecolor: color\n",
            "  fc: color\n",
            "  figure: `.Figure`\n",
            "  frame_on: bool\n",
            "  gid: str\n",
            "  in_layout: bool\n",
            "  label: object\n",
            "  navigate: bool\n",
            "  navigate_mode: unknown\n",
            "  path_effects: `.AbstractPathEffect`\n",
            "  picker: None or bool or float or callable\n",
            "  position: [left, bottom, width, height] or `~matplotlib.transforms.Bbox`\n",
            "  prop_cycle: unknown\n",
            "  rasterization_zorder: float or None\n",
            "  rasterized: bool or None\n",
            "  sketch_params: (scale: float, length: float, randomness: float)\n",
            "  snap: bool or None\n",
            "  subplotspec: unknown\n",
            "  title: str\n",
            "  transform: `.Transform`\n",
            "  url: str\n",
            "  visible: bool\n",
            "  xbound: unknown\n",
            "  xlabel: str\n",
            "  xlim: (bottom: float, top: float)\n",
            "  xmargin: float greater than -0.5\n",
            "  xscale: {\"linear\", \"log\", \"symlog\", \"logit\", ...}\n",
            "  xticklabels: List[str]\n",
            "  xticks: unknown\n",
            "  ybound: unknown\n",
            "  ylabel: str\n",
            "  ylim: (bottom: float, top: float)\n",
            "  ymargin: float greater than -0.5\n",
            "  yscale: {\"linear\", \"log\", \"symlog\", \"logit\", ...}\n",
            "  yticklabels: List[str]\n",
            "  yticks: unknown\n",
            "  zorder: float\n"
          ]
        },
        {
          "output_type": "display_data",
          "data": {
            "text/plain": [
              "<Figure size 432x288 with 0 Axes>"
            ]
          },
          "metadata": {}
        },
        {
          "output_type": "display_data",
          "data": {
            "image/png": "[encoded data removed]",
            "text/plain": [
              "<Figure size 504x720 with 3 Axes>"
            ]
          },
          "metadata": {}
        }
      ]
    },
    {
      "cell_type": "markdown",
      "metadata": {
        "id": "7c7dLl2ODKZK"
      },
      "source": [
        "### **Kesimpulan**\n",
        "Dari hasil explorasi data tersebut didapatkan informasi:\n",
        "*   Rata-rata dari umur pelanggan adalah 37.5 tahun\n",
        "*   Rata-rata dari nilai belanja setahun pelanggan adalah 7,069,874.82\n",
        "*   Jenis kelamin pelanggan di dominasi oleh wanita sebanyak 41 orang (82%) dan laki-laki sebanyak 9 orang (18%)\n",
        "*   Profesi terbanyak adalah Wiraswasta (40%) diikuti dengan Professional (36%) dan lainnya sebanyak (24%)\n",
        "*   Profesi terbanyak adalah Wiraswasta (40%) diikuti dengan Professional (36%) dan lainnya sebanyak (24%)\n",
        "*   Dari seluruh pelanggan 64% dari mereka tinggal di cluster dan 36% nya tinggal di sektor\n",
        "\n",
        "Proses eksplorasi data bisa berupa univariate maupun multivariate data eksplorasi. Eksplorasi Data Univariate adalah dengan melihat karakteristik tiap-tiap *feature*, yakni dengan melihat statistik deskriptif, membuat histogram, distplot, count plot maupun boxplot. Sedangkat untuk Eksplorasi Data Multivariate, kita melihat hubungan tiap variabel dengan variabel lainnya, seperti dengan membuat korelasi matrix, melihat predictive power, cross tabulasi, dan lainnya."
      ]
    },
    {
      "cell_type": "markdown",
      "metadata": {
        "id": "WhUucjY9Qbiy"
      },
      "source": [
        "### **Mempersiapkan Data Sebelum Permodelan**\n"
      ]
    },
    {
      "cell_type": "code",
      "metadata": {
        "id": "JpM2dtRQ-bzo",
        "colab": {
          "base_uri": "https://localhost:8080/",
          "height": 332
        },
        "outputId": "977c7720-4741-499b-c963-c1b8942b84f0"
      },
      "source": [
        "\n",
        "from sklearn.preprocessing import StandardScaler  \n",
        "  \n",
        "kolom_numerik = ['Umur','NilaiBelanjaSetahun']  \n",
        "  \n",
        "# Statistik sebelum Standardisasi  \n",
        "print('Statistik Sebelum Standardisasi\\n')  \n",
        "df[kolom_numerik].describe().round(1) \n",
        "  "
      ],
      "execution_count": 19,
      "outputs": [
        {
          "output_type": "stream",
          "name": "stdout",
          "text": [
            "Statistik Sebelum Standardisasi\n",
            "\n"
          ]
        },
        {
          "output_type": "execute_result",
          "data": {
            "text/html": [
              "<div>\n",
              "<style scoped>\n",
              "    .dataframe tbody tr th:only-of-type {\n",
              "        vertical-align: middle;\n",
              "    }\n",
              "\n",
              "    .dataframe tbody tr th {\n",
              "        vertical-align: top;\n",
              "    }\n",
              "\n",
              "    .dataframe thead th {\n",
              "        text-align: right;\n",
              "    }\n",
              "</style>\n",
              "<table border=\"1\" class=\"dataframe\">\n",
              "  <thead>\n",
              "    <tr style=\"text-align: right;\">\n",
              "      <th></th>\n",
              "      <th>Umur</th>\n",
              "      <th>NilaiBelanjaSetahun</th>\n",
              "    </tr>\n",
              "  </thead>\n",
              "  <tbody>\n",
              "    <tr>\n",
              "      <th>count</th>\n",
              "      <td>50.0</td>\n",
              "      <td>50.0</td>\n",
              "    </tr>\n",
              "    <tr>\n",
              "      <th>mean</th>\n",
              "      <td>37.5</td>\n",
              "      <td>7069874.8</td>\n",
              "    </tr>\n",
              "    <tr>\n",
              "      <th>std</th>\n",
              "      <td>14.7</td>\n",
              "      <td>2590619.0</td>\n",
              "    </tr>\n",
              "    <tr>\n",
              "      <th>min</th>\n",
              "      <td>14.0</td>\n",
              "      <td>2722700.0</td>\n",
              "    </tr>\n",
              "    <tr>\n",
              "      <th>25%</th>\n",
              "      <td>25.0</td>\n",
              "      <td>5257529.8</td>\n",
              "    </tr>\n",
              "    <tr>\n",
              "      <th>50%</th>\n",
              "      <td>35.0</td>\n",
              "      <td>5980077.0</td>\n",
              "    </tr>\n",
              "    <tr>\n",
              "      <th>75%</th>\n",
              "      <td>49.8</td>\n",
              "      <td>9739615.0</td>\n",
              "    </tr>\n",
              "    <tr>\n",
              "      <th>max</th>\n",
              "      <td>64.0</td>\n",
              "      <td>10884508.0</td>\n",
              "    </tr>\n",
              "  </tbody>\n",
              "</table>\n",
              "</div>"
            ],
            "text/plain": [
              "       Umur  NilaiBelanjaSetahun\n",
              "count  50.0                 50.0\n",
              "mean   37.5            7069874.8\n",
              "std    14.7            2590619.0\n",
              "min    14.0            2722700.0\n",
              "25%    25.0            5257529.8\n",
              "50%    35.0            5980077.0\n",
              "75%    49.8            9739615.0\n",
              "max    64.0           10884508.0"
            ]
          },
          "metadata": {},
          "execution_count": 19
        }
      ]
    },
    {
      "cell_type": "code",
      "metadata": {
        "colab": {
          "base_uri": "https://localhost:8080/",
          "height": 239
        },
        "id": "zlBCmUcbDMsw",
        "outputId": "f81baaf7-651c-4d3c-ed25-be871a9433cb"
      },
      "source": [
        "# Standardisasi  \n",
        "df_std = StandardScaler().fit_transform(df[kolom_numerik])  \n",
        "  \n",
        "# Membuat DataFrame  \n",
        "df_std = pd.DataFrame(data=df_std, index=df.index, columns=df[kolom_numerik].columns)  \n",
        "# Menampilkan contoh isi data dan summary statistic  \n",
        "print('Contoh hasil standardisasi\\n')  \n",
        "df_std.head()"
      ],
      "execution_count": 20,
      "outputs": [
        {
          "output_type": "stream",
          "name": "stdout",
          "text": [
            "Contoh hasil standardisasi\n",
            "\n"
          ]
        },
        {
          "output_type": "execute_result",
          "data": {
            "text/html": [
              "<div>\n",
              "<style scoped>\n",
              "    .dataframe tbody tr th:only-of-type {\n",
              "        vertical-align: middle;\n",
              "    }\n",
              "\n",
              "    .dataframe tbody tr th {\n",
              "        vertical-align: top;\n",
              "    }\n",
              "\n",
              "    .dataframe thead th {\n",
              "        text-align: right;\n",
              "    }\n",
              "</style>\n",
              "<table border=\"1\" class=\"dataframe\">\n",
              "  <thead>\n",
              "    <tr style=\"text-align: right;\">\n",
              "      <th></th>\n",
              "      <th>Umur</th>\n",
              "      <th>NilaiBelanjaSetahun</th>\n",
              "    </tr>\n",
              "  </thead>\n",
              "  <tbody>\n",
              "    <tr>\n",
              "      <th>0</th>\n",
              "      <td>1.411245</td>\n",
              "      <td>0.946763</td>\n",
              "    </tr>\n",
              "    <tr>\n",
              "      <th>1</th>\n",
              "      <td>-1.617768</td>\n",
              "      <td>-1.695081</td>\n",
              "    </tr>\n",
              "    <tr>\n",
              "      <th>2</th>\n",
              "      <td>0.722833</td>\n",
              "      <td>-0.695414</td>\n",
              "    </tr>\n",
              "    <tr>\n",
              "      <th>3</th>\n",
              "      <td>1.067039</td>\n",
              "      <td>-0.727361</td>\n",
              "    </tr>\n",
              "    <tr>\n",
              "      <th>4</th>\n",
              "      <td>0.240944</td>\n",
              "      <td>1.382421</td>\n",
              "    </tr>\n",
              "  </tbody>\n",
              "</table>\n",
              "</div>"
            ],
            "text/plain": [
              "       Umur  NilaiBelanjaSetahun\n",
              "0  1.411245             0.946763\n",
              "1 -1.617768            -1.695081\n",
              "2  0.722833            -0.695414\n",
              "3  1.067039            -0.727361\n",
              "4  0.240944             1.382421"
            ]
          },
          "metadata": {},
          "execution_count": 20
        }
      ]
    },
    {
      "cell_type": "code",
      "metadata": {
        "colab": {
          "base_uri": "https://localhost:8080/",
          "height": 332
        },
        "id": "S8Iw8ue_DUg2",
        "outputId": "4bae63c8-9510-4073-8ff1-0a12708530fe"
      },
      "source": [
        "print('Statistik hasil standardisasi\\n')  \n",
        "df_std.describe().round(0)"
      ],
      "execution_count": 21,
      "outputs": [
        {
          "output_type": "stream",
          "name": "stdout",
          "text": [
            "Statistik hasil standardisasi\n",
            "\n"
          ]
        },
        {
          "output_type": "execute_result",
          "data": {
            "text/html": [
              "<div>\n",
              "<style scoped>\n",
              "    .dataframe tbody tr th:only-of-type {\n",
              "        vertical-align: middle;\n",
              "    }\n",
              "\n",
              "    .dataframe tbody tr th {\n",
              "        vertical-align: top;\n",
              "    }\n",
              "\n",
              "    .dataframe thead th {\n",
              "        text-align: right;\n",
              "    }\n",
              "</style>\n",
              "<table border=\"1\" class=\"dataframe\">\n",
              "  <thead>\n",
              "    <tr style=\"text-align: right;\">\n",
              "      <th></th>\n",
              "      <th>Umur</th>\n",
              "      <th>NilaiBelanjaSetahun</th>\n",
              "    </tr>\n",
              "  </thead>\n",
              "  <tbody>\n",
              "    <tr>\n",
              "      <th>count</th>\n",
              "      <td>50.0</td>\n",
              "      <td>50.0</td>\n",
              "    </tr>\n",
              "    <tr>\n",
              "      <th>mean</th>\n",
              "      <td>0.0</td>\n",
              "      <td>-0.0</td>\n",
              "    </tr>\n",
              "    <tr>\n",
              "      <th>std</th>\n",
              "      <td>1.0</td>\n",
              "      <td>1.0</td>\n",
              "    </tr>\n",
              "    <tr>\n",
              "      <th>min</th>\n",
              "      <td>-2.0</td>\n",
              "      <td>-2.0</td>\n",
              "    </tr>\n",
              "    <tr>\n",
              "      <th>25%</th>\n",
              "      <td>-1.0</td>\n",
              "      <td>-1.0</td>\n",
              "    </tr>\n",
              "    <tr>\n",
              "      <th>50%</th>\n",
              "      <td>-0.0</td>\n",
              "      <td>-0.0</td>\n",
              "    </tr>\n",
              "    <tr>\n",
              "      <th>75%</th>\n",
              "      <td>1.0</td>\n",
              "      <td>1.0</td>\n",
              "    </tr>\n",
              "    <tr>\n",
              "      <th>max</th>\n",
              "      <td>2.0</td>\n",
              "      <td>1.0</td>\n",
              "    </tr>\n",
              "  </tbody>\n",
              "</table>\n",
              "</div>"
            ],
            "text/plain": [
              "       Umur  NilaiBelanjaSetahun\n",
              "count  50.0                 50.0\n",
              "mean    0.0                 -0.0\n",
              "std     1.0                  1.0\n",
              "min    -2.0                 -2.0\n",
              "25%    -1.0                 -1.0\n",
              "50%    -0.0                 -0.0\n",
              "75%     1.0                  1.0\n",
              "max     2.0                  1.0"
            ]
          },
          "metadata": {},
          "execution_count": 21
        }
      ]
    },
    {
      "cell_type": "markdown",
      "metadata": {
        "id": "7TubMcQNmnhP"
      },
      "source": [
        "### **Konversi Kategorikal Data dengan Label Encoder**\n"
      ]
    },
    {
      "cell_type": "code",
      "metadata": {
        "colab": {
          "base_uri": "https://localhost:8080/",
          "height": 204
        },
        "id": "4as_aFoxlLJx",
        "outputId": "c221d7d4-7757-4cfe-e531-8f6022d5e3cb"
      },
      "source": [
        "# Inisiasi nama kolom kategorikal  \n",
        "kolom_kategorikal = ['Jenis Kelamin','Profesi','Tipe Residen']  \n",
        "  \n",
        "# Membuat salinan data frame  \n",
        "df_encode = df[kolom_kategorikal].copy()  \n",
        "  \n",
        "  \n",
        "# Melakukan labelEncoder untuk semua kolom kategorikal  \n",
        "for col in kolom_kategorikal:  \n",
        "    df_encode[col] = LabelEncoder().fit_transform(df_encode[col])\n",
        "      \n",
        "# Menampilkan data  \n",
        "df_encode.head()\n"
      ],
      "execution_count": 22,
      "outputs": [
        {
          "output_type": "execute_result",
          "data": {
            "text/html": [
              "<div>\n",
              "<style scoped>\n",
              "    .dataframe tbody tr th:only-of-type {\n",
              "        vertical-align: middle;\n",
              "    }\n",
              "\n",
              "    .dataframe tbody tr th {\n",
              "        vertical-align: top;\n",
              "    }\n",
              "\n",
              "    .dataframe thead th {\n",
              "        text-align: right;\n",
              "    }\n",
              "</style>\n",
              "<table border=\"1\" class=\"dataframe\">\n",
              "  <thead>\n",
              "    <tr style=\"text-align: right;\">\n",
              "      <th></th>\n",
              "      <th>Jenis Kelamin</th>\n",
              "      <th>Profesi</th>\n",
              "      <th>Tipe Residen</th>\n",
              "    </tr>\n",
              "  </thead>\n",
              "  <tbody>\n",
              "    <tr>\n",
              "      <th>0</th>\n",
              "      <td>0</td>\n",
              "      <td>4</td>\n",
              "      <td>1</td>\n",
              "    </tr>\n",
              "    <tr>\n",
              "      <th>1</th>\n",
              "      <td>1</td>\n",
              "      <td>2</td>\n",
              "      <td>0</td>\n",
              "    </tr>\n",
              "    <tr>\n",
              "      <th>2</th>\n",
              "      <td>0</td>\n",
              "      <td>3</td>\n",
              "      <td>0</td>\n",
              "    </tr>\n",
              "    <tr>\n",
              "      <th>3</th>\n",
              "      <td>0</td>\n",
              "      <td>3</td>\n",
              "      <td>0</td>\n",
              "    </tr>\n",
              "    <tr>\n",
              "      <th>4</th>\n",
              "      <td>1</td>\n",
              "      <td>4</td>\n",
              "      <td>0</td>\n",
              "    </tr>\n",
              "  </tbody>\n",
              "</table>\n",
              "</div>"
            ],
            "text/plain": [
              "   Jenis Kelamin  Profesi  Tipe Residen\n",
              "0              0        4             1\n",
              "1              1        2             0\n",
              "2              0        3             0\n",
              "3              0        3             0\n",
              "4              1        4             0"
            ]
          },
          "metadata": {},
          "execution_count": 22
        }
      ]
    },
    {
      "cell_type": "markdown",
      "metadata": {
        "id": "Tax6bqyHzfnE"
      },
      "source": [
        "Nilai tiap kolom merepresentasikan nilai seperti berikut ini:\n",
        "\n",
        "> Jenis Kelamin\n",
        "*   0 = Pria\n",
        "*   1 = Wanita\n",
        "\n",
        "> Profesi\n",
        "*   0 = Ibu Rumah Tangga\n",
        "*   1 = Mahasiswa\n",
        "*   2 = Pelajar\n",
        "*   3 = Profesional\n",
        "*   4 = Wiraswasta\n",
        "\n",
        "> Tipe Residen\n",
        "*   1 = Sector\n",
        "*   0 = Cluster\n"
      ]
    },
    {
      "cell_type": "markdown",
      "metadata": {
        "id": "6oPr9Rbh04qP"
      },
      "source": [
        "### **Menggabungkan Data untuk Permodelan**\n"
      ]
    },
    {
      "cell_type": "code",
      "metadata": {
        "colab": {
          "base_uri": "https://localhost:8080/",
          "height": 204
        },
        "id": "4DndVMR40CuJ",
        "outputId": "b790f6ea-882a-4e0c-dc9e-490d678f75c9"
      },
      "source": [
        "# Menggabungkan data frame\n",
        "df_model= df_encode.merge(df_std, left_index = True, right_index=True, how= 'left')  \n",
        "df_model.head()"
      ],
      "execution_count": 23,
      "outputs": [
        {
          "output_type": "execute_result",
          "data": {
            "text/html": [
              "<div>\n",
              "<style scoped>\n",
              "    .dataframe tbody tr th:only-of-type {\n",
              "        vertical-align: middle;\n",
              "    }\n",
              "\n",
              "    .dataframe tbody tr th {\n",
              "        vertical-align: top;\n",
              "    }\n",
              "\n",
              "    .dataframe thead th {\n",
              "        text-align: right;\n",
              "    }\n",
              "</style>\n",
              "<table border=\"1\" class=\"dataframe\">\n",
              "  <thead>\n",
              "    <tr style=\"text-align: right;\">\n",
              "      <th></th>\n",
              "      <th>Jenis Kelamin</th>\n",
              "      <th>Profesi</th>\n",
              "      <th>Tipe Residen</th>\n",
              "      <th>Umur</th>\n",
              "      <th>NilaiBelanjaSetahun</th>\n",
              "    </tr>\n",
              "  </thead>\n",
              "  <tbody>\n",
              "    <tr>\n",
              "      <th>0</th>\n",
              "      <td>0</td>\n",
              "      <td>4</td>\n",
              "      <td>1</td>\n",
              "      <td>1.411245</td>\n",
              "      <td>0.946763</td>\n",
              "    </tr>\n",
              "    <tr>\n",
              "      <th>1</th>\n",
              "      <td>1</td>\n",
              "      <td>2</td>\n",
              "      <td>0</td>\n",
              "      <td>-1.617768</td>\n",
              "      <td>-1.695081</td>\n",
              "    </tr>\n",
              "    <tr>\n",
              "      <th>2</th>\n",
              "      <td>0</td>\n",
              "      <td>3</td>\n",
              "      <td>0</td>\n",
              "      <td>0.722833</td>\n",
              "      <td>-0.695414</td>\n",
              "    </tr>\n",
              "    <tr>\n",
              "      <th>3</th>\n",
              "      <td>0</td>\n",
              "      <td>3</td>\n",
              "      <td>0</td>\n",
              "      <td>1.067039</td>\n",
              "      <td>-0.727361</td>\n",
              "    </tr>\n",
              "    <tr>\n",
              "      <th>4</th>\n",
              "      <td>1</td>\n",
              "      <td>4</td>\n",
              "      <td>0</td>\n",
              "      <td>0.240944</td>\n",
              "      <td>1.382421</td>\n",
              "    </tr>\n",
              "  </tbody>\n",
              "</table>\n",
              "</div>"
            ],
            "text/plain": [
              "   Jenis Kelamin  Profesi  Tipe Residen      Umur  NilaiBelanjaSetahun\n",
              "0              0        4             1  1.411245             0.946763\n",
              "1              1        2             0 -1.617768            -1.695081\n",
              "2              0        3             0  0.722833            -0.695414\n",
              "3              0        3             0  1.067039            -0.727361\n",
              "4              1        4             0  0.240944             1.382421"
            ]
          },
          "metadata": {},
          "execution_count": 23
        }
      ]
    },
    {
      "cell_type": "markdown",
      "metadata": {
        "id": "tnOfxV18EZHX"
      },
      "source": [
        "## **Pembuatan Model**"
      ]
    },
    {
      "cell_type": "markdown",
      "metadata": {
        "id": "v7GG-f69EcsD"
      },
      "source": [
        "\n",
        "Clustering adalah proses pembagian objek-objek ke dalam beberapa kelompok (cluster) berdasarkan tingkat kemiripan antara satu objek dengan yang lain.\n",
        "\n",
        "Terdapat beberapa algoritma untuk melakukan clustering ini. Salah satu yang populer adalah k-means.\n",
        "\n",
        "K-means itu sendiri biasa nya hanya digunakan untuk data-data yang bersifat numerik. Sedangkan untuk yang bersifat kategorikal saja, kita bisa menggunakan k-modes.\n",
        "\n",
        "Lalu bagaimana apabila di data kita terdapat gabungan kategorikal dan numerikal variabel? Jawabannya kita bisa menggunakan algoritma k-prototype yang merupakan gabungan dari k-means dan k-modes. Hal ini bisa di lakukan dengan menggunakan library k-modes yang di dalamnya terdapat modul kprototype.\n",
        "\n",
        "Untuk menggunakan algoritma kprototype kamu perlu memasukkan jumlah cluster yang di kehendaki dan juga memberikan index kolom untuk kolom-kolom yang bersifat kategorikal.\n",
        "\n",
        "Untuk lebih lengkapnya kamu bisa melihat dokumentasi dari kprototype melalui link berikut https://github.com/nicodv/kmodes"
      ]
    },
    {
      "cell_type": "markdown",
      "metadata": {
        "id": "9hhItok8K48P"
      },
      "source": [
        "### **Elbow Plot**\n",
        "Salah satu parameter penting yang harus di masukkan pada algoritma kprototype adalah jumlah cluster yang diinginkan. Oleh karena itu, kamu perlu mencari jumlah cluster yang optimal. Salah satu cara untuk mendapatkan nilai optimal tersebut adalah dengan menggunnakan bantuan 'elbow plot'.\n",
        "\n",
        "Elbow plot ini dapat di buat dengan cara  memvisualisasikan total jarak seluruh data kita ke pusat cluster nya. Selanjutnya kita memilih titik siku dari pola yang terbentuk dan menjadikannya sebagai jumlah cluster kita.\n",
        "\n",
        "Untuk melakukan hal ini kamu perlu menjalankan algoritma kprototypes dengan berbagai jumlah cluster. Selanjutnya kamu juga menyimpan nilai cost_ dan memvisualisasikan nya dengan line plot atau point plot.\n",
        "\n",
        "Berikut adalah pembuatan elbow plot dengan jumlah cluster 2 sampai 9 dan menentukan jumlah cluster yang optimal."
      ]
    },
    {
      "cell_type": "code",
      "metadata": {
        "colab": {
          "base_uri": "https://localhost:8080/",
          "height": 268
        },
        "id": "zAhnL0gHEhEu",
        "outputId": "fd42a84d-096a-4de0-d079-50de82cda610"
      },
      "source": [
        "# Melakukan Iterasi untuk Mendapatkan nilai Cost\n",
        "cost = {}\n",
        "for k in range(2,10):\n",
        "  kproto  = KPrototypes(n_clusters = k,random_state=75)\n",
        "  kproto.fit_predict(df_model, categorical=[0,1,2]) \n",
        "\n",
        "  cost[k] = kproto.cost_\n",
        "\n",
        "# Memvisualisasikan Elbow Plot\n",
        "sns.pointplot(x=list(cost.keys()), y=list(cost.values()))\n",
        "plt.show()    "
      ],
      "execution_count": 24,
      "outputs": [
        {
          "output_type": "display_data",
          "data": {
            "image/png": "[encoded data removed]",
            "text/plain": [
              "<Figure size 432x288 with 1 Axes>"
            ]
          },
          "metadata": {}
        }
      ]
    },
    {
      "cell_type": "markdown",
      "metadata": {
        "id": "1p4M3BcKV-jp"
      },
      "source": [
        "### **Membuat Model**"
      ]
    },
    {
      "cell_type": "code",
      "metadata": {
        "id": "owEmVgQxXdE9"
      },
      "source": [
        "import pickle\n",
        "\n",
        "kproto = KPrototypes(n_clusters=5, random_state=75)\n",
        "kproto = kproto.fit(df_model, categorical=[1,2,3])\n",
        "\n",
        "pickle.dump(kproto, open('cluster.pkl', 'wb'))"
      ],
      "execution_count": 25,
      "outputs": []
    },
    {
      "cell_type": "markdown",
      "metadata": {
        "id": "1qXCwFEbmhbW"
      },
      "source": [
        "### **Penggunaan Model**\n",
        "."
      ]
    },
    {
      "cell_type": "code",
      "metadata": {
        "colab": {
          "base_uri": "https://localhost:8080/",
          "height": 257
        },
        "id": "ku8Uhdt6XdMl",
        "outputId": "436f0cdc-13f1-46a6-9209-5491a92bcd97"
      },
      "source": [
        "# Menentukan segmen tiap pelanggan\n",
        "clusters = kproto.predict(df_model, categorical=[1,2,3])\n",
        "print('Segmentasi Pelanggan: {}\\n'.format(clusters))\n",
        "\n",
        "# Menggabungkan data awal dan segmen pelanggan\n",
        "df_final = df.copy()\n",
        "df_final['cluster'] = clusters\n",
        "df_final.head()"
      ],
      "execution_count": 26,
      "outputs": [
        {
          "output_type": "stream",
          "name": "stdout",
          "text": [
            "Segmentasi Pelanggan: [1 2 3 3 0 4 1 3 4 3 4 4 0 0 1 3 4 4 0 2 0 4 3 0 1 4 0 4 4 4 2 1 2 1 4 0 4\n",
            " 1 4 2 4 0 4 0 4 1 4 1 4 1]\n",
            "\n"
          ]
        },
        {
          "output_type": "execute_result",
          "data": {
            "text/html": [
              "<div>\n",
              "<style scoped>\n",
              "    .dataframe tbody tr th:only-of-type {\n",
              "        vertical-align: middle;\n",
              "    }\n",
              "\n",
              "    .dataframe tbody tr th {\n",
              "        vertical-align: top;\n",
              "    }\n",
              "\n",
              "    .dataframe thead th {\n",
              "        text-align: right;\n",
              "    }\n",
              "</style>\n",
              "<table border=\"1\" class=\"dataframe\">\n",
              "  <thead>\n",
              "    <tr style=\"text-align: right;\">\n",
              "      <th></th>\n",
              "      <th>Customer_ID</th>\n",
              "      <th>Nama Pelanggan</th>\n",
              "      <th>Jenis Kelamin</th>\n",
              "      <th>Umur</th>\n",
              "      <th>Profesi</th>\n",
              "      <th>Tipe Residen</th>\n",
              "      <th>NilaiBelanjaSetahun</th>\n",
              "      <th>cluster</th>\n",
              "    </tr>\n",
              "  </thead>\n",
              "  <tbody>\n",
              "    <tr>\n",
              "      <th>0</th>\n",
              "      <td>CUST-001</td>\n",
              "      <td>Budi Anggara</td>\n",
              "      <td>Pria</td>\n",
              "      <td>58</td>\n",
              "      <td>Wiraswasta</td>\n",
              "      <td>Sector</td>\n",
              "      <td>9497927</td>\n",
              "      <td>1</td>\n",
              "    </tr>\n",
              "    <tr>\n",
              "      <th>1</th>\n",
              "      <td>CUST-002</td>\n",
              "      <td>Shirley Ratuwati</td>\n",
              "      <td>Wanita</td>\n",
              "      <td>14</td>\n",
              "      <td>Pelajar</td>\n",
              "      <td>Cluster</td>\n",
              "      <td>2722700</td>\n",
              "      <td>2</td>\n",
              "    </tr>\n",
              "    <tr>\n",
              "      <th>2</th>\n",
              "      <td>CUST-003</td>\n",
              "      <td>Agus Cahyono</td>\n",
              "      <td>Pria</td>\n",
              "      <td>48</td>\n",
              "      <td>Professional</td>\n",
              "      <td>Cluster</td>\n",
              "      <td>5286429</td>\n",
              "      <td>3</td>\n",
              "    </tr>\n",
              "    <tr>\n",
              "      <th>3</th>\n",
              "      <td>CUST-004</td>\n",
              "      <td>Antonius Winarta</td>\n",
              "      <td>Pria</td>\n",
              "      <td>53</td>\n",
              "      <td>Professional</td>\n",
              "      <td>Cluster</td>\n",
              "      <td>5204498</td>\n",
              "      <td>3</td>\n",
              "    </tr>\n",
              "    <tr>\n",
              "      <th>4</th>\n",
              "      <td>CUST-005</td>\n",
              "      <td>Ibu Sri Wahyuni, IR</td>\n",
              "      <td>Wanita</td>\n",
              "      <td>41</td>\n",
              "      <td>Wiraswasta</td>\n",
              "      <td>Cluster</td>\n",
              "      <td>10615206</td>\n",
              "      <td>0</td>\n",
              "    </tr>\n",
              "  </tbody>\n",
              "</table>\n",
              "</div>"
            ],
            "text/plain": [
              "  Customer_ID       Nama Pelanggan  ... NilaiBelanjaSetahun  cluster\n",
              "0    CUST-001         Budi Anggara  ...             9497927        1\n",
              "1    CUST-002     Shirley Ratuwati  ...             2722700        2\n",
              "2    CUST-003         Agus Cahyono  ...             5286429        3\n",
              "3    CUST-004     Antonius Winarta  ...             5204498        3\n",
              "4    CUST-005  Ibu Sri Wahyuni, IR  ...            10615206        0\n",
              "\n",
              "[5 rows x 8 columns]"
            ]
          },
          "metadata": {},
          "execution_count": 26
        }
      ]
    },
    {
      "cell_type": "markdown",
      "metadata": {
        "id": "E42qDoO4_Icx"
      },
      "source": [
        "### **Menampilkan Cluster Tiap Pelanggan**\n"
      ]
    },
    {
      "cell_type": "code",
      "metadata": {
        "colab": {
          "base_uri": "https://localhost:8080/"
        },
        "id": "JsHMJ5dMeNzW",
        "outputId": "db275886-4858-4d28-aa4b-7e00dd9455a8"
      },
      "source": [
        "# Menampilkan data pelanggan berdasarkan cluster nya  \n",
        "for i in range(0,5):\n",
        "  print('\\nPelanggan Cluster : {}\\n'.format(i))\n",
        "  print(df_final[df_final['cluster']==i])"
      ],
      "execution_count": 27,
      "outputs": [
        {
          "output_type": "stream",
          "name": "stdout",
          "text": [
            "\n",
            "Pelanggan Cluster : 0\n",
            "\n",
            "   Customer_ID       Nama Pelanggan  ... NilaiBelanjaSetahun  cluster\n",
            "4     CUST-005  Ibu Sri Wahyuni, IR  ...            10615206        0\n",
            "12    CUST-013         Cahaya Putri  ...             9333168        0\n",
            "13    CUST-014       Mario Setiawan  ...             9471615        0\n",
            "18    CUST-019         Mega Pranoto  ...            10884508        0\n",
            "20    CUST-021     Lestari Fabianto  ...             9222070        0\n",
            "23    CUST-024        Putri Ginting  ...            10259572        0\n",
            "26    CUST-027        Grace Mulyati  ...             9114159        0\n",
            "35    CUST-036       Ni Made Suasti  ...             9678994        0\n",
            "41    CUST-042         Yuliana Wati  ...             9880607        0\n",
            "43    CUST-044                 Anna  ...             9339737        0\n",
            "\n",
            "[10 rows x 8 columns]\n",
            "\n",
            "Pelanggan Cluster : 1\n",
            "\n",
            "   Customer_ID    Nama Pelanggan  ... NilaiBelanjaSetahun  cluster\n",
            "0     CUST-001      Budi Anggara  ...             9497927        1\n",
            "6     CUST-007     Cahyono, Agus  ...             9837260        1\n",
            "14    CUST-015  Shirley Ratuwati  ...            10365668        1\n",
            "24    CUST-025    Julia Setiawan  ...            10721998        1\n",
            "31    CUST-032   Chintya Winarni  ...            10663179        1\n",
            "33    CUST-034    Deasy Arisandi  ...             9759822        1\n",
            "37    CUST-038      Agatha Salim  ...            10477127        1\n",
            "45    CUST-046      Elfira Surya  ...            10099807        1\n",
            "47    CUST-048  Maria Hutagalung  ...            10390732        1\n",
            "49    CUST-050    Lianna Nugraha  ...            10569316        1\n",
            "\n",
            "[10 rows x 8 columns]\n",
            "\n",
            "Pelanggan Cluster : 2\n",
            "\n",
            "   Customer_ID    Nama Pelanggan  ... NilaiBelanjaSetahun  cluster\n",
            "1     CUST-002  Shirley Ratuwati  ...             2722700        2\n",
            "19    CUST-020    Irene Novianto  ...             2896845        2\n",
            "30    CUST-031     Eviana Handry  ...             3042773        2\n",
            "32    CUST-033   Cecilia Kusnadi  ...             3047926        2\n",
            "39    CUST-040    Irene Darmawan  ...             2861855        2\n",
            "\n",
            "[5 rows x 8 columns]\n",
            "\n",
            "Pelanggan Cluster : 3\n",
            "\n",
            "   Customer_ID    Nama Pelanggan  ... NilaiBelanjaSetahun  cluster\n",
            "2     CUST-003      Agus Cahyono  ...             5286429        3\n",
            "3     CUST-004  Antonius Winarta  ...             5204498        3\n",
            "7     CUST-008    Danang Santosa  ...             5223569        3\n",
            "9     CUST-010    Mario Setiawan  ...             5257448        3\n",
            "15    CUST-016      Bambang Rudi  ...             5262521        3\n",
            "22    CUST-023   Denny Amiruddin  ...             5239290        3\n",
            "\n",
            "[6 rows x 8 columns]\n",
            "\n",
            "Pelanggan Cluster : 4\n",
            "\n",
            "   Customer_ID         Nama Pelanggan  ... NilaiBelanjaSetahun  cluster\n",
            "5     CUST-006        Rosalina Kurnia  ...             5215541        4\n",
            "8     CUST-009  Elisabeth Suryadinata  ...             5993218        4\n",
            "10    CUST-011         Maria Suryawan  ...             5987367        4\n",
            "11    CUST-012        Erliana Widjaja  ...             5941914        4\n",
            "16    CUST-017              Yuni Sari  ...             5677762        4\n",
            "17    CUST-018            Nelly Halim  ...             5340690        4\n",
            "21    CUST-022           Novita Purba  ...             5298157        4\n",
            "25    CUST-026      Christine Winarto  ...             5269392        4\n",
            "27    CUST-028          Adeline Huang  ...             6631680        4\n",
            "28    CUST-029           Tia Hartanti  ...             5271845        4\n",
            "29    CUST-030         Rosita Saragih  ...             5020976        4\n",
            "34    CUST-035                Ida Ayu  ...             5962575        4\n",
            "36    CUST-037       Felicia Tandiono  ...             5972787        4\n",
            "38    CUST-039           Gina Hidayat  ...             5257775        4\n",
            "40    CUST-041       Shinta Aritonang  ...             6820976        4\n",
            "42    CUST-043           Yenna Sumadi  ...             5268410        4\n",
            "44    CUST-045         Rismawati Juni  ...             5211041        4\n",
            "46    CUST-047            Mira Kurnia  ...             6130724        4\n",
            "48    CUST-049        Josephine Wahab  ...             4992585        4\n",
            "\n",
            "[19 rows x 8 columns]\n"
          ]
        }
      ]
    },
    {
      "cell_type": "markdown",
      "metadata": {
        "id": "G8tW_vmZANcG"
      },
      "source": [
        "### **Visualisasi Hasil Clustering - Box Plot**\n"
      ]
    },
    {
      "cell_type": "code",
      "metadata": {
        "colab": {
          "base_uri": "https://localhost:8080/",
          "height": 645
        },
        "id": "jsCETM67lWcZ",
        "outputId": "1597ed5c-dd31-40d6-cc32-4df04d18ded5"
      },
      "source": [
        "# Data Numerical\n",
        "kolom_numerik = ['Umur','NilaiBelanjaSetahun']\n",
        "\n",
        "for i in kolom_numerik:\n",
        "  plt.figure(figsize=(6,4))\n",
        "  ax = sns.boxplot(x='cluster', y=i, data=df_final)\n",
        "  plt.title('\\nBox Plot {}\\n'.format(i), fontsize=12)\n",
        "  plt.show()"
      ],
      "execution_count": 28,
      "outputs": [
        {
          "output_type": "display_data",
          "data": {
            "image/png": "[encoded data removed]",
            "text/plain": [
              "<Figure size 432x288 with 1 Axes>"
            ]
          },
          "metadata": {}
        },
        {
          "output_type": "display_data",
          "data": {
            "image/png": "[encoded data removed]",
            "text/plain": [
              "<Figure size 432x288 with 1 Axes>"
            ]
          },
          "metadata": {}
        }
      ]
    },
    {
      "cell_type": "markdown",
      "metadata": {
        "id": "zyYnJvDvDgMQ"
      },
      "source": [
        "### **Visualisasi Hasil Clustering - Count Plot**\n",
        "Berikut adalah hasil visualisasi berupa countplot untuk setiap variabel tiap pelanggan yang dibagi berdasarkan nama clusternya. "
      ]
    },
    {
      "cell_type": "code",
      "metadata": {
        "colab": {
          "base_uri": "https://localhost:8080/",
          "height": 959
        },
        "id": "4ILImZcXCz_a",
        "outputId": "e2fb94a5-9df2-4063-b8e8-7ab926226e7c"
      },
      "source": [
        "# Data Kategorikal\n",
        "kolom_categorical=['Jenis Kelamin', 'Profesi', 'Tipe Residen']\n",
        "\n",
        "for i in kolom_categorical:\n",
        "  plt.figure(figsize=(6,4))\n",
        "  ax = sns.countplot(data=df_final, x='cluster', hue=i)\n",
        "  plt.title('\\nCount Plot {}\\n'.format(i), fontsize=12)\n",
        "  ax.legend(loc=\"upper center\")\n",
        "  for p in ax.patches:\n",
        "    ax.annotate(format(p.get_height(), '.0f'),\n",
        "                (p.get_x() + p.get_width() / 2., p.get_height()),\n",
        "                ha = 'center',\n",
        "                va = 'center',\n",
        "                xytext = (0,10),\n",
        "                textcoords = 'offset points')\n",
        "sns.despine(right='True', top='True',left='True')\n",
        "ax.axes.yaxis.set_visible(False)\n",
        "plt.show()\n",
        "\n"
      ],
      "execution_count": 29,
      "outputs": [
        {
          "output_type": "display_data",
          "data": {
            "image/png": "[encoded data removed]",
            "text/plain": [
              "<Figure size 432x288 with 1 Axes>"
            ]
          },
          "metadata": {}
        },
        {
          "output_type": "display_data",
          "data": {
            "image/png": "[encoded data removed]",
            "text/plain": [
              "<Figure size 432x288 with 1 Axes>"
            ]
          },
          "metadata": {}
        },
        {
          "output_type": "display_data",
          "data": {
            "image/png": "[encoded data removed]",
            "text/plain": [
              "<Figure size 432x288 with 1 Axes>"
            ]
          },
          "metadata": {}
        }
      ]
    },
    {
      "cell_type": "markdown",
      "metadata": {
        "id": "22z_vF-mdFAk"
      },
      "source": [
        "### **Menamakan Cluster**\n",
        "Dari hasil observasi yang dilakukan, nama segmen dari tiap tiap nomor kluster nya. Yaitu:\n",
        "\n",
        "- Cluster 0: Diamond Young Entrepreneur, isi cluster ini adalah para wiraswasta yang memiliki nilai transaksi rata-rata mendekati 10 juta. Selain itu isi dari cluster ini memiliki umur sekitar 18 - 41 tahun dengan rata-ratanya adalah 29 tahun.\n",
        "- Cluster 1: Diamond Senior Entrepreneur, isi cluster ini adalah para wiraswata yang memiliki nilai transaksi rata-rata mendekati 10 juta. Isi dari cluster ini memiliki umur sekitar 45 - 64 tahun dengan rata-ratanya adalah 55 tahun.\n",
        "- Cluster 2: Silver Students, isi cluster ini adalah para pelajar dan mahasiswa dengan rata-rata umur mereka adalah 16 tahun dan nilai belanja setahun mendekati 3 juta.\n",
        "- Cluster 3: Gold Young Member, isi cluster ini adalah para professional dan ibu rumah tangga yang berusia muda dengan rentang umur sekitar 20 - 40 tahun dan dengan rata-rata 30 tahun dan nilai belanja setahun nya mendekati 6 juta.\n",
        "- Cluster 4: Gold Senior Member, isi cluster ini adalah para professional dan ibu rumah tangga yang berusia tua dengan rentang umur 46 - 63 tahun dan dengan rata-rata 53 tahun dan nilai belanja setahun nya mendekati 6 juta."
      ]
    },
    {
      "cell_type": "code",
      "metadata": {
        "colab": {
          "base_uri": "https://localhost:8080/",
          "height": 488
        },
        "id": "Nk1aMZgHSnRG",
        "outputId": "19bd4b25-8420-4c07-b27d-e359d1f8b2d8"
      },
      "source": [
        "# Mapping nama kolom  \n",
        "df_final['segmen'] = df_final['cluster'].map({  \n",
        "    0: 'Diamond Young Member',  \n",
        "    1: 'Diamond Senior Member',  \n",
        "    2: 'Silver Member',  \n",
        "    3: 'Gold Young Member',  \n",
        "    4: 'Gold Senior Member'  \n",
        "})  \n",
        "\n",
        "df_final.info()\n",
        "df_final.head(5)"
      ],
      "execution_count": 30,
      "outputs": [
        {
          "output_type": "stream",
          "name": "stdout",
          "text": [
            "<class 'pandas.core.frame.DataFrame'>\n",
            "RangeIndex: 50 entries, 0 to 49\n",
            "Data columns (total 9 columns):\n",
            " #   Column               Non-Null Count  Dtype \n",
            "---  ------               --------------  ----- \n",
            " 0   Customer_ID          50 non-null     object\n",
            " 1   Nama Pelanggan       50 non-null     object\n",
            " 2   Jenis Kelamin        50 non-null     object\n",
            " 3   Umur                 50 non-null     int64 \n",
            " 4   Profesi              50 non-null     object\n",
            " 5   Tipe Residen         50 non-null     object\n",
            " 6   NilaiBelanjaSetahun  50 non-null     int64 \n",
            " 7   cluster              50 non-null     uint16\n",
            " 8   segmen               50 non-null     object\n",
            "dtypes: int64(2), object(6), uint16(1)\n",
            "memory usage: 3.3+ KB\n"
          ]
        },
        {
          "output_type": "execute_result",
          "data": {
            "text/html": [
              "<div>\n",
              "<style scoped>\n",
              "    .dataframe tbody tr th:only-of-type {\n",
              "        vertical-align: middle;\n",
              "    }\n",
              "\n",
              "    .dataframe tbody tr th {\n",
              "        vertical-align: top;\n",
              "    }\n",
              "\n",
              "    .dataframe thead th {\n",
              "        text-align: right;\n",
              "    }\n",
              "</style>\n",
              "<table border=\"1\" class=\"dataframe\">\n",
              "  <thead>\n",
              "    <tr style=\"text-align: right;\">\n",
              "      <th></th>\n",
              "      <th>Customer_ID</th>\n",
              "      <th>Nama Pelanggan</th>\n",
              "      <th>Jenis Kelamin</th>\n",
              "      <th>Umur</th>\n",
              "      <th>Profesi</th>\n",
              "      <th>Tipe Residen</th>\n",
              "      <th>NilaiBelanjaSetahun</th>\n",
              "      <th>cluster</th>\n",
              "      <th>segmen</th>\n",
              "    </tr>\n",
              "  </thead>\n",
              "  <tbody>\n",
              "    <tr>\n",
              "      <th>0</th>\n",
              "      <td>CUST-001</td>\n",
              "      <td>Budi Anggara</td>\n",
              "      <td>Pria</td>\n",
              "      <td>58</td>\n",
              "      <td>Wiraswasta</td>\n",
              "      <td>Sector</td>\n",
              "      <td>9497927</td>\n",
              "      <td>1</td>\n",
              "      <td>Diamond Senior Member</td>\n",
              "    </tr>\n",
              "    <tr>\n",
              "      <th>1</th>\n",
              "      <td>CUST-002</td>\n",
              "      <td>Shirley Ratuwati</td>\n",
              "      <td>Wanita</td>\n",
              "      <td>14</td>\n",
              "      <td>Pelajar</td>\n",
              "      <td>Cluster</td>\n",
              "      <td>2722700</td>\n",
              "      <td>2</td>\n",
              "      <td>Silver Member</td>\n",
              "    </tr>\n",
              "    <tr>\n",
              "      <th>2</th>\n",
              "      <td>CUST-003</td>\n",
              "      <td>Agus Cahyono</td>\n",
              "      <td>Pria</td>\n",
              "      <td>48</td>\n",
              "      <td>Professional</td>\n",
              "      <td>Cluster</td>\n",
              "      <td>5286429</td>\n",
              "      <td>3</td>\n",
              "      <td>Gold Young Member</td>\n",
              "    </tr>\n",
              "    <tr>\n",
              "      <th>3</th>\n",
              "      <td>CUST-004</td>\n",
              "      <td>Antonius Winarta</td>\n",
              "      <td>Pria</td>\n",
              "      <td>53</td>\n",
              "      <td>Professional</td>\n",
              "      <td>Cluster</td>\n",
              "      <td>5204498</td>\n",
              "      <td>3</td>\n",
              "      <td>Gold Young Member</td>\n",
              "    </tr>\n",
              "    <tr>\n",
              "      <th>4</th>\n",
              "      <td>CUST-005</td>\n",
              "      <td>Ibu Sri Wahyuni, IR</td>\n",
              "      <td>Wanita</td>\n",
              "      <td>41</td>\n",
              "      <td>Wiraswasta</td>\n",
              "      <td>Cluster</td>\n",
              "      <td>10615206</td>\n",
              "      <td>0</td>\n",
              "      <td>Diamond Young Member</td>\n",
              "    </tr>\n",
              "  </tbody>\n",
              "</table>\n",
              "</div>"
            ],
            "text/plain": [
              "  Customer_ID       Nama Pelanggan  ... cluster                 segmen\n",
              "0    CUST-001         Budi Anggara  ...       1  Diamond Senior Member\n",
              "1    CUST-002     Shirley Ratuwati  ...       2          Silver Member\n",
              "2    CUST-003         Agus Cahyono  ...       3      Gold Young Member\n",
              "3    CUST-004     Antonius Winarta  ...       3      Gold Young Member\n",
              "4    CUST-005  Ibu Sri Wahyuni, IR  ...       0   Diamond Young Member\n",
              "\n",
              "[5 rows x 9 columns]"
            ]
          },
          "metadata": {},
          "execution_count": 30
        }
      ]
    },
    {
      "cell_type": "markdown",
      "metadata": {
        "id": "1lUfnCdhgqgf"
      },
      "source": [
        "## **Mengoperasikan Model**"
      ]
    },
    {
      "cell_type": "markdown",
      "metadata": {
        "id": "CLiYnm12gqm2"
      },
      "source": [
        "### **Mempersiapkan Data Baru**\n"
      ]
    },
    {
      "cell_type": "code",
      "metadata": {
        "colab": {
          "base_uri": "https://localhost:8080/",
          "height": 80
        },
        "id": "5Gbwu-qbdOgP",
        "outputId": "65a85eec-574c-41d2-f75d-484297213485"
      },
      "source": [
        "data = [{  \n",
        "    'Customer_ID': 'CUST-100' ,  \n",
        "    'Nama Pelanggan': 'Joko' ,  \n",
        "    'Jenis Kelamin': 'Pria',  \n",
        "    'Umur': 45,  \n",
        "    'Profesi': 'Wiraswasta',  \n",
        "    'Tipe Residen': 'Cluster' ,  \n",
        "    'NilaiBelanjaSetahun': 8230000  \n",
        "      \n",
        "}]  \n",
        "  \n",
        "# Membuat Data Frame  \n",
        "new_df = pd.DataFrame(data)  \n",
        "  \n",
        "# Melihat Data  \n",
        "new_df"
      ],
      "execution_count": 31,
      "outputs": [
        {
          "output_type": "execute_result",
          "data": {
            "text/html": [
              "<div>\n",
              "<style scoped>\n",
              "    .dataframe tbody tr th:only-of-type {\n",
              "        vertical-align: middle;\n",
              "    }\n",
              "\n",
              "    .dataframe tbody tr th {\n",
              "        vertical-align: top;\n",
              "    }\n",
              "\n",
              "    .dataframe thead th {\n",
              "        text-align: right;\n",
              "    }\n",
              "</style>\n",
              "<table border=\"1\" class=\"dataframe\">\n",
              "  <thead>\n",
              "    <tr style=\"text-align: right;\">\n",
              "      <th></th>\n",
              "      <th>Customer_ID</th>\n",
              "      <th>Nama Pelanggan</th>\n",
              "      <th>Jenis Kelamin</th>\n",
              "      <th>Umur</th>\n",
              "      <th>Profesi</th>\n",
              "      <th>Tipe Residen</th>\n",
              "      <th>NilaiBelanjaSetahun</th>\n",
              "    </tr>\n",
              "  </thead>\n",
              "  <tbody>\n",
              "    <tr>\n",
              "      <th>0</th>\n",
              "      <td>CUST-100</td>\n",
              "      <td>Joko</td>\n",
              "      <td>Pria</td>\n",
              "      <td>45</td>\n",
              "      <td>Wiraswasta</td>\n",
              "      <td>Cluster</td>\n",
              "      <td>8230000</td>\n",
              "    </tr>\n",
              "  </tbody>\n",
              "</table>\n",
              "</div>"
            ],
            "text/plain": [
              "  Customer_ID Nama Pelanggan  ... Tipe Residen  NilaiBelanjaSetahun\n",
              "0    CUST-100           Joko  ...      Cluster              8230000\n",
              "\n",
              "[1 rows x 7 columns]"
            ]
          },
          "metadata": {},
          "execution_count": 31
        }
      ]
    },
    {
      "cell_type": "markdown",
      "metadata": {
        "id": "YxtaUzAksL8E"
      },
      "source": [
        "Selanjutnya adalah melakukan langkah-langkah seperti yang sudah dilakukan sebelumnya, dengan melakukan konversi data kategorikal menjadi numerik dan standardisasi kolom numerikal. Untuk melakukan standardisasi dengan variable yang sama pada saat permodelan, perlunya menggunakan nilai rata-rata dan standard deviasi dari tiap variabel pada saat melakukan permodelan. Yaitu:\n",
        "\n",
        "> Umur\n",
        "*   Rata - rata: 37.5\n",
        "*   Standard Deviasi: 14.7\n",
        "\n",
        "> NilaiBelanjaSetahun\n",
        "*  Rata - rata: 7069874.8\n",
        "*  Standard Deviasi: 2590619.0\n",
        "\n",
        "Dari nilai-nilai tersebut kita dapat menghitung nilai standardisasi (z) dengan menggunakan rumus **Z = (x - u)/s** dengan x adalah tiap nilai, u adalah rata-rata dan s adalah standard deviasi. "
      ]
    },
    {
      "cell_type": "code",
      "metadata": {
        "id": "-uM5TDbGh7L6",
        "colab": {
          "base_uri": "https://localhost:8080/",
          "height": 80
        },
        "outputId": "c3eefde5-a446-4344-fdc3-727ce3ada4e8"
      },
      "source": [
        "def data_preprocess(data):  \n",
        "    # Konversi Kategorikal data  \n",
        "    kolom_kategorikal = ['Jenis Kelamin','Profesi','Tipe Residen']  \n",
        "      \n",
        "    df_encode = data[kolom_kategorikal].copy()  \n",
        "  \n",
        "    ## Jenis Kelamin   \n",
        "    df_encode['Jenis Kelamin'] = df_encode['Jenis Kelamin'].map({  \n",
        "        'Pria': 0,  \n",
        "        'Wanita' : 1  \n",
        "    })  \n",
        "      \n",
        "    ## Profesi  \n",
        "    df_encode['Profesi'] = df_encode['Profesi'].map({  \n",
        "        'Ibu Rumah Tangga': 0,  \n",
        "        'Mahasiswa' : 1,  \n",
        "        'Pelajar': 2,  \n",
        "        'Professional': 3,  \n",
        "        'Wiraswasta': 4  \n",
        "    })  \n",
        "      \n",
        "    ## Tipe Residen  \n",
        "    df_encode['Tipe Residen'] = df_encode['Tipe Residen'].map({  \n",
        "        'Cluster': 0,  \n",
        "        'Sector' : 1  \n",
        "    })  \n",
        "      \n",
        "    # Standardisasi Numerical Data  \n",
        "    kolom_numerik = ['Umur','NilaiBelanjaSetahun']  \n",
        "    df_std = data[kolom_numerik].copy()  \n",
        "      \n",
        "    ## Standardisasi Kolom Umur  \n",
        "    df_std['Umur'] = (df_std['Umur'] - 37.5)/14.7  \n",
        "      \n",
        "    ## Standardisasi Kolom Nilai Belanja Setahun  \n",
        "    df_std['NilaiBelanjaSetahun'] = (df_std['NilaiBelanjaSetahun'] - 7069874.8)/2590619.0  \n",
        "      \n",
        "    # Menggabungkan Kategorikal dan numerikal data  \n",
        "    df_model = df_encode.merge(df_std, left_index = True,  \n",
        "                           right_index=True, how = 'left')  \n",
        "      \n",
        "    return df_model  \n",
        "  \n",
        "# Menjalankan fungsi  \n",
        "new_df_model = data_preprocess(new_df)  \n",
        "  \n",
        "new_df_model"
      ],
      "execution_count": 32,
      "outputs": [
        {
          "output_type": "execute_result",
          "data": {
            "text/html": [
              "<div>\n",
              "<style scoped>\n",
              "    .dataframe tbody tr th:only-of-type {\n",
              "        vertical-align: middle;\n",
              "    }\n",
              "\n",
              "    .dataframe tbody tr th {\n",
              "        vertical-align: top;\n",
              "    }\n",
              "\n",
              "    .dataframe thead th {\n",
              "        text-align: right;\n",
              "    }\n",
              "</style>\n",
              "<table border=\"1\" class=\"dataframe\">\n",
              "  <thead>\n",
              "    <tr style=\"text-align: right;\">\n",
              "      <th></th>\n",
              "      <th>Jenis Kelamin</th>\n",
              "      <th>Profesi</th>\n",
              "      <th>Tipe Residen</th>\n",
              "      <th>Umur</th>\n",
              "      <th>NilaiBelanjaSetahun</th>\n",
              "    </tr>\n",
              "  </thead>\n",
              "  <tbody>\n",
              "    <tr>\n",
              "      <th>0</th>\n",
              "      <td>0</td>\n",
              "      <td>4</td>\n",
              "      <td>0</td>\n",
              "      <td>0.510204</td>\n",
              "      <td>0.447818</td>\n",
              "    </tr>\n",
              "  </tbody>\n",
              "</table>\n",
              "</div>"
            ],
            "text/plain": [
              "   Jenis Kelamin  Profesi  Tipe Residen      Umur  NilaiBelanjaSetahun\n",
              "0              0        4             0  0.510204             0.447818"
            ]
          },
          "metadata": {},
          "execution_count": 32
        }
      ]
    },
    {
      "cell_type": "markdown",
      "metadata": {
        "id": "iljIxRL0FbFV"
      },
      "source": [
        "### **Memanggil Model dan Melakukan Prediksi**\n"
      ]
    },
    {
      "cell_type": "code",
      "metadata": {
        "id": "VRnaYg5NGkNj",
        "colab": {
          "base_uri": "https://localhost:8080/"
        },
        "outputId": "d07efbcb-12fb-4b68-e686-f47d2782fea9"
      },
      "source": [
        "def modelling(data):  \n",
        "      \n",
        "    # Memanggil Model  \n",
        "    kpoto = pickle.load(open('cluster.pkl', 'rb'))  \n",
        "      \n",
        "    # Melakukan Prediksi  \n",
        "    clusters = kpoto.predict(data,categorical=[0,1,2])  \n",
        "      \n",
        "    return clusters  \n",
        "  \n",
        "# Menjalankan Fungsi  \n",
        "clusters = modelling(new_df_model)  \n",
        "  \n",
        "print(clusters)  "
      ],
      "execution_count": 34,
      "outputs": [
        {
          "output_type": "stream",
          "name": "stdout",
          "text": [
            "[0]\n"
          ]
        }
      ]
    },
    {
      "cell_type": "markdown",
      "metadata": {
        "id": "8y7_owPCLfhX"
      },
      "source": [
        "### **Menamakan Segmen**\n"
      ]
    },
    {
      "cell_type": "code",
      "metadata": {
        "id": "xQvRBrBDGk74",
        "colab": {
          "base_uri": "https://localhost:8080/",
          "height": 79
        },
        "outputId": "612e2234-febf-407f-e661-a6e35dbbf827"
      },
      "source": [
        "def menamakan_segmen (data_asli, clusters):  \n",
        "      \n",
        "    # Menggabungkan cluster dan data asli  \n",
        "    final_df = data_asli.copy()  \n",
        "    final_df['cluster'] = clusters\n",
        "      \n",
        "    # Menamakan segmen  \n",
        "    final_df['segmen'] = final_df['cluster'].map({  \n",
        "        0: 'Diamond Young Member',  \n",
        "        1: 'Diamond Senior Member',  \n",
        "        2: 'Silver Students',  \n",
        "        3: 'Gold Young Member',  \n",
        "        4: 'Gold Senior Member'  \n",
        "    })  \n",
        "      \n",
        "    return final_df\n",
        "  \n",
        "# Menjalankan Fungsi  \n",
        "new_final_df = menamakan_segmen(new_df,clusters)  \n",
        "  \n",
        "new_final_df "
      ],
      "execution_count": null,
      "outputs": [
        {
          "output_type": "execute_result",
          "data": {
            "text/html": [
              "<div>\n",
              "<style scoped>\n",
              "    .dataframe tbody tr th:only-of-type {\n",
              "        vertical-align: middle;\n",
              "    }\n",
              "\n",
              "    .dataframe tbody tr th {\n",
              "        vertical-align: top;\n",
              "    }\n",
              "\n",
              "    .dataframe thead th {\n",
              "        text-align: right;\n",
              "    }\n",
              "</style>\n",
              "<table border=\"1\" class=\"dataframe\">\n",
              "  <thead>\n",
              "    <tr style=\"text-align: right;\">\n",
              "      <th></th>\n",
              "      <th>Customer_ID</th>\n",
              "      <th>Nama Pelanggan</th>\n",
              "      <th>Jenis Kelamin</th>\n",
              "      <th>Umur</th>\n",
              "      <th>Profesi</th>\n",
              "      <th>Tipe Residen</th>\n",
              "      <th>NilaiBelanjaSetahun</th>\n",
              "      <th>cluster</th>\n",
              "      <th>segmen</th>\n",
              "    </tr>\n",
              "  </thead>\n",
              "  <tbody>\n",
              "    <tr>\n",
              "      <th>0</th>\n",
              "      <td>CUST-100</td>\n",
              "      <td>Joko</td>\n",
              "      <td>Pria</td>\n",
              "      <td>45</td>\n",
              "      <td>Wiraswasta</td>\n",
              "      <td>Cluster</td>\n",
              "      <td>8230000</td>\n",
              "      <td>0</td>\n",
              "      <td>Diamond Young Member</td>\n",
              "    </tr>\n",
              "  </tbody>\n",
              "</table>\n",
              "</div>"
            ],
            "text/plain": [
              "  Customer_ID Nama Pelanggan  ... cluster                segmen\n",
              "0    CUST-100           Joko  ...       0  Diamond Young Member\n",
              "\n",
              "[1 rows x 9 columns]"
            ]
          },
          "metadata": {},
          "execution_count": 23
        }
      ]
    }
  ]
}